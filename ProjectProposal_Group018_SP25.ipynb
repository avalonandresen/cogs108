{
 "cells": [
  {
   "cell_type": "markdown",
   "metadata": {},
   "source": [
    "# COGS 108 - Project Proposal"
   ]
  },
  {
   "cell_type": "markdown",
   "metadata": {},
   "source": [
    "# Names\n",
    "\n",
    "- Avalon Andresen\n",
    "- Johnny Nguyen\n",
    "- Karen Li\n",
    "- Parinita Saha\n",
    "- Youna Cho\n"
   ]
  },
  {
   "cell_type": "markdown",
   "metadata": {},
   "source": [
    "# Research Question"
   ]
  },
  {
   "cell_type": "markdown",
   "metadata": {},
   "source": [
    "Across a diverse set of AI mental health chatbot apps, is there a significant positive correlation between the frequency of emotionally supportive sentiment expressed in user reviews as identified through sentiment analysis and the average Google Play Store rating?"
   ]
  },
  {
   "cell_type": "markdown",
   "metadata": {},
   "source": [
    "## Background and Prior Work"
   ]
  },
  {
   "cell_type": "markdown",
   "metadata": {},
   "source": [
    "\n",
    "The growing emphasis on mental well-being, significantly highlighted by the COVID-19 pandemic and the subsequent Demand for remote support, has coincided with the rapid expansion of digital Technologies in the emergence of numerous mental health applications. Recognizing the critical role of mental health and overall wellness, individuals are increasingly seeking accessible and convenient digital support systems. This surge has given rise to a diverse landscape of mental health applications designed to assist users in navigating the complexities of stress, anxiety, depression, and a spectrum of other emotional challenges.\n",
    "\n",
    " As a result, user reviews have become an invaluable source of authentic information, providing a direct window into the real-world experiences of individuals utilizing these digital tools. These first-hand accounts offer rich insights into the aspects of these apps that users find beneficial, the challenges they encounter, and the overall effectiveness of these platforms in supporting their mental well-being. Natural Language Processing (NLP) techniques, especially sentiment analysis, are crucial for deciphering the emotional nuances in these user-generated texts.<a name=\"cite_ref-6\"></a>[<sup>6</sup>](#cite_note-6)\n",
    "\n",
    " While star ratings provide a general indication of user satisfaction, the detailed textual feedback in reviews, when subjected to sentiment analysis, can pinpoint specific features or aspects of an app that elicit positive or negative emotions.<a name=\"cite_ref-7\"></a>[<sup>7</sup>](#cite_note-7) This granular feedback is incredibly valuable for app developers, enabling them to identify areas for improvement, refine existing features, and better cater to the evolving needs of their user base.<a name=\"cite_ref-2\"></a>[<sup>2</sup>](#cite_note-2) This connection underscores the critical importance of fostering positive user experiences, as higher app ratings often translate into increased downloads, greater user trust, and ultimately, the sustained success of the application.\n",
    "\n",
    "This report examines the correlation between emotionally supportive sentiment in user reviews and Google Play Store ratings of \"Wysa\", \"Ahead: Emotions Coach\", and \"How We Feel\".\n",
    "\n",
    "- **Wysa: The Empathetic AI Chatbot Companion**\n",
    "\n",
    "    Wysa stands out as a pioneering AI-powered mental health support chatbot, designed to offer 24/7 anonymous emotional support through evidence-based techniques.<a name=\"cite_ref-9\"></a>[<sup>9</sup>](#cite_note-9) \n",
    "\n",
    "- **How We Feel: Empowering Emotional Awareness and Regulation**\n",
    "\n",
    "    How We Feel offers a unique approach to mental well-being by focusing on helping users understand and regulate their emotions through a visually intuitive mood meter.<a name=\"cite_ref-4\"></a>[<sup>4</sup>](#cite_note-4) Developed in conjunction with Yale University's Center for Emotional Intelligence, the app encourages users to identify and track their feelings, learn about their causes, and discover effective regulation strategies.<a name=\"cite_ref-4\"></a>[<sup>4</sup>](#cite_note-4) \n",
    "\n",
    "- **Ahead Emotions Coach: Your Personal Guide to Emotional Intelligence**\n",
    "\n",
    "    Ahead Emotions Coach takes a distinct approach by focusing on improving users' emotional intelligence through short, interactive sessions grounded in behavioral science. Often, it is referred to as the Duolingo for emotional intelligence.<a name=\"cite_ref-1\"></a>[<sup>1</sup>](#cite_note-1) \n",
    "\n",
    "<table style=\"border-collapse: collapse; width: 100%; font-family: Arial, sans-serif; text-align: center; border: 1px solid #ddd; border-radius: 10px; overflow: hidden; max-width: 70%; margin: 30px;\">\n",
    "  <thead>\n",
    "<tr style=\"background-color: rgb(243, 243, 243); color: rgb(77, 74, 74); border: 1px solid #ddd;\">\n",
    "      <th style=\"border: 1px solid #ddd; padding: 8px; text-align: center;\">App Name</th>\n",
    "      <th style=\"border: 1px solid #ddd; padding: 8px; text-align: center;\">Average Google Play Store Rating</th>\n",
    "      <th style=\"border: 1px solid #ddd; padding: 8px; text-align: center;\">Number of Reviews</th>\n",
    "      <th style=\"border: 1px solid #ddd; padding: 8px; text-align: center;\">Downloads</th>\n",
    "    </tr>\n",
    "  </thead>\n",
    "  <tbody>\n",
    "    <tr>\n",
    "      <td style=\"border: 1px solid #ddd; padding: 8px;\">Wysa</td>\n",
    "      <td style=\"border: 1px solid #ddd; padding: 8px;\">4.6</td>\n",
    "      <td style=\"border: 1px solid #ddd; padding: 8px;\">151K</td>\n",
    "      <td style=\"border: 1px solid #ddd; padding: 8px;\">1M+</td>\n",
    "    </tr>\n",
    "    <tr>\n",
    "      <td style=\"border: 1px solid #ddd; padding: 8px;\">How We Feel</td>\n",
    "      <td style=\"border: 1px solid #ddd; padding: 8px;\">4.5</td>\n",
    "      <td style=\"border: 1px solid #ddd; padding: 8px;\">2.87K</td>\n",
    "      <td style=\"border: 1px solid #ddd; padding: 8px;\">100K+</td>\n",
    "    </tr>\n",
    "    <tr>\n",
    "      <td style=\"border: 1px solid #ddd; padding: 8px;\">Ahead: Emotions Coach</td>\n",
    "      <td style=\"border: 1px solid #ddd; padding: 8px;\">4.1</td>\n",
    "      <td style=\"border: 1px solid #ddd; padding: 8px;\">300</td>\n",
    "      <td style=\"border: 1px solid #ddd; padding: 8px;\">10K+</td>\n",
    "    </tr>\n",
    "  </tbody>\n",
    "</table>\n",
    "\n",
    "Prior research has explored the application of sentiment analysis to app reviews across various domains, including health and food delivery services, often finding a positive correlation between positive sentiment and higher app ratings.<a name=\"cite_ref-6\"></a>[<sup>6</sup>](#cite_note-6) For instance, a study on food delivery apps highlighted the impact of emotional cues in user reviews on star ratings.<a name=\"cite_ref-6\"></a>[<sup>6</sup>](#cite_note-6) Similarly, research in the mental health domain has used NLP techniques to analyze user feedback, aiming to improve app design and user engagement.<a name=\"cite_ref-3\"></a>[<sup>3</sup>](#cite_note-3)\n",
    "\n",
    "One key area of focus in mental health app evaluation is the concept of emotionally supportive sentiment. This refers to expressions in user reviews indicating that the app made them feel understood, cared for, or validated.<a name=\"cite_ref-5\"></a>[<sup>5</sup>](#cite_note-5) Given that individuals often turn to mental health apps seeking a safe and empathetic space,<a name=\"cite_ref-5\"></a>[<sup>5</sup>](#cite_note-5) the presence of such sentiment in reviews could be a strong indicator of an app's ability to meet user needs. A study analyzing user reviews of depression apps found that therapeutic treatment app features, like games, generated more positive emotions in users.<a name=\"cite_ref-8\"></a>[<sup>8</sup>](#cite_note-8) This suggests that the specific features and the resulting emotional responses play a significant role in user perception. \n",
    "\n",
    "Our research builds upon this foundation by specifically investigating the correlation between the frequency of emotionally supportive sentiment and the overall Google Play Store rating for a focused set of AI mental health chatbot apps. By examining this relationship, we aim to provide valuable insights for developers looking to enhance user satisfaction and app store performance in this increasingly important sector.\n",
    "\n",
    "\n",
    "\n",
    "References:\n",
    "1. <a name=\"cite_note-1\"></a> [^](#cite_ref-1) Ahead: Emotions Coach - Apps on Google Play, accessed April 26, 2025, https://play.google.com/store/apps/details?id=com.aheadsolutions.aHead\n",
    "2. <a name=\"cite_note-2\"></a> [^](#cite_ref-2) Alqahtani, Felwah & Orji, Rita. (2020). Insights from user reviews to improve mental health apps. Health Informatics Journal. 26. 146045821989649. 10.1177/1460458219896492. https://www.researchgate.net/publication/338515888_Insights_from_user_reviews_to_improve_mental_health_apps\n",
    "3. <a name=\"cite_note-3\"></a> [^](#cite_ref-3) Funnell, Erin Lucy, et al. “MHealth Solutions for Mental Health Screening and Diagnosis: A Review of APP User Perspectives Using Sentiment and Thematic Analysis.” Frontiers, Frontiers, 26 Apr. 2025, https://www.frontiersin.org/journals/psychiatry/articles/10.3389/fpsyt.2022.857304/full\n",
    "4. <a name=\"cite_note-4\"></a> [^](#cite_ref-4) How We Feel - Apps on Google Play, accessed April 26, 2025, https://play.google.com/store/apps/details?id=org.howwefeel.moodmeter\n",
    "5. <a name=\"cite_note-5\"></a> [^](#cite_ref-5) Kang, D. young, & Ki, E. J. (2025). User Needs and Benefits of Mental Health Chatbots: Text-Mining Analysis of Mobile Apps Reviews. International Journal of Human–Computer Interaction, 1–11. https://doi.org/10.1080/10447318.2025.2490866\n",
    "6. <a name=\"cite_note-6\"></a> [^](#cite_ref-6) Li, Le & Ismail, Noor & Chong, Choo & Sun, Peng & Pervin, Mst & Hossain, Md Shamim. (2024). Customers' emotional impact on star rating and thumbs-up behavior towards food delivery service Apps. Journal of Infrastructure Policy and Development. 8. 5311. 10.24294/jipd.v8i7.5311., https://www.researchgate.net/publication/382695095_Customers'_emotional_impact_on_star_rating_and_thumbs-up_behavior_towards_food_delivery_service_Apps\n",
    "7. <a name=\"cite_note-7\"></a> [^](#cite_ref-7) Martens, Daniel, and Timo Johann. “On the Emotion of Users in App Reviews.” arXiv.Org, 7 Mar. 2017, https://arxiv.org/pdf/1703.02256\n",
    "8. <a name=\"cite_note-8\"></a> [^](#cite_ref-8) Meyer, J., & Okuboyejo, S. (2021). User Reviews of Depression App Features: Sentiment Analysis. JMIR formative research, 5(12), e17062. https://doi.org/10.2196/17062\n",
    "9. <a name=\"cite_note-9\"></a> [^](#cite_ref-9) Wysa: Anxiety, therapy chatbot - Apps on Google Play https://play.google.com/store/apps/details?id=bot.touchkin"
   ]
  },
  {
   "cell_type": "markdown",
   "metadata": {},
   "source": [
    "# Hypothesis\n"
   ]
  },
  {
   "cell_type": "markdown",
   "metadata": {},
   "source": [
    "We hypothesize that there will be a significant positive correlation between the frequency of emotionally supportive sentiment expressed in user reviews and the average Google Play Store rating for the selected AI mental health chatbot apps. This prediction is based on prior research suggesting that positive emotional experiences, particularly feeling understood and supported, strongly influence user satisfaction and subsequent app ratings."
   ]
  },
  {
   "cell_type": "markdown",
   "metadata": {},
   "source": [
    "# Data"
   ]
  },
  {
   "cell_type": "markdown",
   "metadata": {},
   "source": [
    "1. Explain what the **ideal** dataset you would want to answer this question. (This should include: What variables? How many observations? Who/what/how would these data be collected? How would these data be stored/organized?)\n",
    "1. Search for potential **real** datasets that could provide you with something useful for this project.  You do not have to find every piece of data you will use, but you do need to have demonstrated some idea that (a) this data is gettable and (b) that this data may be different from what your ideal is."
   ]
  },
  {
   "cell_type": "markdown",
   "metadata": {},
   "source": [
    "# Ethics & Privacy"
   ]
  },
  {
   "cell_type": "markdown",
   "metadata": {},
   "source": [
    "Our project plans to analyze how emotionally supportive AI mental health chatbots are, based on user satisfaction ratings. We are considering using publicly available user reviews from mental health apps providing AI chatbot functions. These reviews are usually shared on platforms like the Google Play Store or App Store, where users post their experiences voluntarily. Since we will not collect personal data ourselves and will only use public information, we expect the privacy risk to be low.\n",
    "\n",
    "However, we understand that some reviews may include emotional or sensitive personal stories. Even though usernames are usually hidden or anonymized, we will be careful not to highlight any specific or identifying content. If we find any comments that seem too personal, we may choose to summarize them or leave them out.\n",
    "\n",
    "We also acknowledge that not everyone leaves app reviews. People who write reviews may have very strong opinions—either positive or negative—so the data may not represent all users fairly. To reduce this bias, we plan to include a large number of reviews from multiple apps and mention these limitations clearly in our analysis. We will also avoid making strong claims about the overall effectiveness of chatbots, and we will encourage responsible use of our findings.\n"
   ]
  },
  {
   "cell_type": "markdown",
   "metadata": {},
   "source": [
    "# Team Expectations "
   ]
  },
  {
   "cell_type": "markdown",
   "metadata": {},
   "source": [
    "\n",
    "Read over the [COGS108 Team Policies](https://github.com/COGS108/Projects/blob/master/COGS108_TeamPolicies.md) individually. Then, include your group’s expectations of one another for successful completion of your COGS108 project below. Discuss and agree on what all of your expectations are. Discuss how your team will communicate throughout the quarter and consider how you will communicate respectfully should conflicts arise. By including each member’s name above and by adding their name to the submission, you are indicating that you have read the COGS108 Team Policies, accept your team’s expectations below, and have every intention to fulfill them. These expectations are for your team’s use and benefit — they won’t be graded for their details.\n",
    "\n",
    "* *Team Expectation 1*\n",
    "* *Team Expectation 2*\n",
    "* *Team Expecation 3*\n",
    "* ..."
   ]
  },
  {
   "cell_type": "markdown",
   "metadata": {},
   "source": [
    "# Project Timeline Proposal"
   ]
  },
  {
   "cell_type": "markdown",
   "metadata": {},
   "source": [
    "Specify your team's specific project timeline. An example timeline has been provided. Changes the dates, times, names, and details to fit your group's plan.\n",
    "\n",
    "If you think you will need any special resources or training outside what we have covered in COGS 108 to solve your problem, then your proposal should state these clearly. For example, if you have selected a problem that involves implementing multiple neural networks, please state this so we can make sure you know what you’re doing and so we can point you to resources you will need to implement your project. Note that you are not required to use outside methods.\n",
    "\n",
    "\n",
    "\n",
    "| Meeting Date  | Meeting Time| Completed Before Meeting  | Discuss at Meeting |\n",
    "|---|---|---|---|\n",
    "| 1/20  |  1 PM | Read & Think about COGS 108 expectations; brainstorm topics/questions  | Determine best form of communication; Discuss and decide on final project topic; discuss hypothesis; begin background research | \n",
    "| 1/26  |  10 AM |  Do background research on topic | Discuss ideal dataset(s) and ethics; draft project proposal | \n",
    "| 2/1  | 10 AM  | Edit, finalize, and submit proposal; Search for datasets  | Discuss Wrangling and possible analytical approaches; Assign group members to lead each specific part   |\n",
    "| 2/14  | 6 PM  | Import & Wrangle Data (Ant Man); EDA (Hulk) | Review/Edit wrangling/EDA; Discuss Analysis Plan   |\n",
    "| 2/23  | 12 PM  | Finalize wrangling/EDA; Begin Analysis (Iron Man; Thor) | Discuss/edit Analysis; Complete project check-in |\n",
    "| 3/13  | 12 PM  | Complete analysis; Draft results/conclusion/discussion (Wasp)| Discuss/edit full project |\n",
    "| 3/20  | Before 11:59 PM  | NA | Turn in Final Project & Group Project Surveys |"
   ]
  }
 ],
 "metadata": {
  "kernelspec": {
   "display_name": "Python 3 (ipykernel)",
   "language": "python",
   "name": "python3"
  },
  "language_info": {
   "codemirror_mode": {
    "name": "ipython",
    "version": 3
   },
   "file_extension": ".py",
   "mimetype": "text/x-python",
   "name": "python",
   "nbconvert_exporter": "python",
   "pygments_lexer": "ipython3",
   "version": "3.11.9"
  }
 },
 "nbformat": 4,
 "nbformat_minor": 4
}
