{
 "cells": [
  {
   "cell_type": "markdown",
   "metadata": {},
   "source": [
    "**If you lost points on the last checkpoint you can get them back by responding to TA/IA feedback**  \n",
    "\n",
    "Update/change the relevant sections where you lost those points, make sure you respond on GitHub Issues to your TA/IA to call their attention to the changes you made here.\n",
    "\n",
    "Please update your Timeline... no battle plan survives contact with the enemy, so make sure we understand how your plans have changed."
   ]
  },
  {
   "cell_type": "markdown",
   "metadata": {},
   "source": [
    "# COGS 108 - EDA Checkpoint"
   ]
  },
  {
   "cell_type": "markdown",
   "metadata": {},
   "source": [
    "# Names\n",
    "\n",
    "- Avalon Andresen\n",
    "- Johnny Nguyen\n",
    "- Karen Li\n",
    "- Parinita Saha\n",
    "- Youna Cho"
   ]
  },
  {
   "cell_type": "markdown",
   "metadata": {},
   "source": [
    "# Research Question"
   ]
  },
  {
   "cell_type": "markdown",
   "metadata": {},
   "source": [
    "Across a diverse set of AI mental health chatbot apps, is there a significant positive correlation between the frequency of emotionally supportive sentiment expressed in user reviews as identified through sentiment analysis and the average Google Play Store rating?"
   ]
  },
  {
   "cell_type": "markdown",
   "metadata": {},
   "source": [
    "## Background and Prior Work"
   ]
  },
  {
   "cell_type": "markdown",
   "metadata": {},
   "source": [
    "The growing emphasis on mental well-being, significantly highlighted by the COVID-19 pandemic and the subsequent Demand for remote support, has coincided with the rapid expansion of digital Technologies in the emergence of numerous mental health applications. Recognizing the critical role of mental health and overall wellness, individuals are increasingly seeking accessible and convenient digital support systems. This surge has given rise to a diverse landscape of mental health applications designed to assist users in navigating the complexities of stress, anxiety, depression, and a spectrum of other emotional challenges.\n",
    "\n",
    " As a result, user reviews have become an invaluable source of authentic information, providing a direct window into the real-world experiences of individuals utilizing these digital tools. These first-hand accounts offer rich insights into the aspects of these apps that users find beneficial, the challenges they encounter, and the overall effectiveness of these platforms in supporting their mental well-being. Natural Language Processing (NLP) techniques, especially sentiment analysis, are crucial for deciphering the emotional nuances in these user-generated texts.<a name=\"cite_ref-6\"></a>[<sup>6</sup>](#cite_note-6)\n",
    "\n",
    " While star ratings provide a general indication of user satisfaction, the detailed textual feedback in reviews, when subjected to sentiment analysis, can pinpoint specific features or aspects of an app that elicit positive or negative emotions.<a name=\"cite_ref-7\"></a>[<sup>7</sup>](#cite_note-7) This granular feedback is incredibly valuable for app developers, enabling them to identify areas for improvement, refine existing features, and better cater to the evolving needs of their user base.<a name=\"cite_ref-2\"></a>[<sup>2</sup>](#cite_note-2) This connection underscores the critical importance of fostering positive user experiences, as higher app ratings often translate into increased downloads, greater user trust, and ultimately, the sustained success of the application.\n",
    "\n",
    "This report examines the correlation between emotionally supportive sentiment in user reviews and Google Play Store ratings across a diverse collection of AI mental health chatbot apps. While our initial exploration focused on apps like \"Wysa\", \"Ahead: Emotions Coach\", and \"How We Feel\" as representative examples of the types of AI mental health chatbot apps we are investigating, our expanded analysis now includes a broader set of a total of **17 distinct applications** to provide a more robust understanding of this relationship.\n",
    "\n",
    "- **Wysa: The Empathetic AI Chatbot Companion**\n",
    "\n",
    "    Wysa stands out as a pioneering AI-powered mental health support chatbot, designed to offer 24/7 anonymous emotional support through evidence-based techniques.<a name=\"cite_ref-9\"></a>[<sup>9</sup>](#cite_note-9) \n",
    "\n",
    "- **How We Feel: Empowering Emotional Awareness and Regulation**\n",
    "\n",
    "    How We Feel offers a unique approach to mental well-being by focusing on helping users understand and regulate their emotions through a visually intuitive mood meter.<a name=\"cite_ref-4\"></a>[<sup>4</sup>](#cite_note-4) Developed in conjunction with Yale University's Center for Emotional Intelligence, the app encourages users to identify and track their feelings, learn about their causes, and discover effective regulation strategies.<a name=\"cite_ref-4\"></a>[<sup>4</sup>](#cite_note-4) \n",
    "\n",
    "- **Ahead Emotions Coach: Your Personal Guide to Emotional Intelligence**\n",
    "\n",
    "    Ahead Emotions Coach takes a distinct approach by focusing on improving users' emotional intelligence through short, interactive sessions grounded in behavioral science. Often, it is referred to as the Duolingo for emotional intelligence.<a name=\"cite_ref-1\"></a>[<sup>1</sup>](#cite_note-1) \n",
    "\n",
    "<table style=\"border-collapse: collapse; width: 100%; font-family: Arial, sans-serif; text-align: center; border: 1px solid #ddd; border-radius: 10px; overflow: hidden; max-width: 70%; margin: 30px;\">\n",
    "  <thead>\n",
    "<tr style=\"background-color: rgb(243, 243, 243); color: rgb(77, 74, 74); border: 1px solid #ddd;\">\n",
    "      <th style=\"border: 1px solid #ddd; padding: 8px; text-align: center;\">App Name</th>\n",
    "      <th style=\"border: 1px solid #ddd; padding: 8px; text-align: center;\">Average Google Play Store Rating</th>\n",
    "      <th style=\"border: 1px solid #ddd; padding: 8px; text-align: center;\">Number of Reviews</th>\n",
    "      <th style=\"border: 1px solid #ddd; padding: 8px; text-align: center;\">Downloads</th>\n",
    "    </tr>\n",
    "  </thead>\n",
    "  <tbody>\n",
    "    <tr>\n",
    "      <td style=\"border: 1px solid #ddd; padding: 8px;\">Wysa</td>\n",
    "      <td style=\"border: 1px solid #ddd; padding: 8px;\">4.6</td>\n",
    "      <td style=\"border: 1px solid #ddd; padding: 8px;\">151K</td>\n",
    "      <td style=\"border: 1px solid #ddd; padding: 8px;\">1M+</td>\n",
    "    </tr>\n",
    "    <tr>\n",
    "      <td style=\"border: 1px solid #ddd; padding: 8px;\">How We Feel</td>\n",
    "      <td style=\"border: 1px solid #ddd; padding: 8px;\">4.5</td>\n",
    "      <td style=\"border: 1px solid #ddd; padding: 8px;\">2.87K</td>\n",
    "      <td style=\"border: 1px solid #ddd; padding: 8px;\">100K+</td>\n",
    "    </tr>\n",
    "    <tr>\n",
    "      <td style=\"border: 1px solid #ddd; padding: 8px;\">Ahead: Emotions Coach</td>\n",
    "      <td style=\"border: 1px solid #ddd; padding: 8px;\">4.1</td>\n",
    "      <td style=\"border: 1px solid #ddd; padding: 8px;\">300</td>\n",
    "      <td style=\"border: 1px solid #ddd; padding: 8px;\">10K+</td>\n",
    "    </tr>\n",
    "  </tbody>\n",
    "</table>\n",
    "\n",
    "Prior research has explored the application of sentiment analysis to app reviews across various domains, including health and food delivery services, often finding a positive correlation between positive sentiment and higher app ratings.<a name=\"cite_ref-6\"></a>[<sup>6</sup>](#cite_note-6) For instance, a study on food delivery apps highlighted the impact of emotional cues in user reviews on star ratings.<a name=\"cite_ref-6\"></a>[<sup>6</sup>](#cite_note-6) Similarly, research in the mental health domain has used NLP techniques to analyze user feedback, aiming to improve app design and user engagement.<a name=\"cite_ref-3\"></a>[<sup>3</sup>](#cite_note-3)\n",
    "\n",
    "One key area of focus in mental health app evaluation is the concept of emotionally supportive sentiment. This refers to expressions in user reviews indicating that the app made them feel understood, cared for, or validated.<a name=\"cite_ref-5\"></a>[<sup>5</sup>](#cite_note-5) We define emotionally supportive sentiment as expressions in user reviews that indicate feeling heard, understood, or emotionally uplifted, such as 'I felt less alone,' 'this app gets me,' or 'the chatbot really helped me through a tough time.' Given that individuals often turn to mental health apps seeking a safe and empathetic space,<a name=\"cite_ref-5\"></a>[<sup>5</sup>](#cite_note-5) the presence of such sentiment in reviews could be a strong indicator of an app's ability to meet user needs. A study analyzing user reviews of depression apps found that therapeutic treatment app features, like games, generated more positive emotions in users.<a name=\"cite_ref-8\"></a>[<sup>8</sup>](#cite_note-8) This suggests that the specific features and the resulting emotional responses play a significant role in user perception. \n",
    "\n",
    "Our research builds upon this foundation by specifically investigating the correlation between the frequency of emotionally supportive sentiment and the overall Google Play Store rating for a focused set of AI mental health chatbot apps. By examining this relationship across a broader collection of 17 apps, we aim to provide valuable insights for developers looking to enhance user satisfaction and app store performance in this increasingly important sector. Understanding this relationship can inform app developers how to better design emotionally intelligent AI systems that meet users' psychological needs, potentially increasing engagement and app effectiveness.\n",
    "\n",
    "<br>\n",
    "\n",
    "_**It is important to note** that our findings are based on a collection of 17 apps, which, while an improvement over our initial scope, still represents a limited sample of the full spectrum of AI mental health chatbot apps available had we been able to account for apps across multiple App Store platforms. We are aware of this limitation and have endeavored to address it by selecting a diverse range of apps within this category._\n",
    "\n",
    "References:\n",
    "1. <a name=\"cite_note-1\"></a> [^](#cite_ref-1) Ahead: Emotions Coach - Apps on Google Play, accessed April 26, 2025, https://play.google.com/store/apps/details?id=com.aheadsolutions.aHead\n",
    "2. <a name=\"cite_note-2\"></a> [^](#cite_ref-2) Alqahtani, Felwah & Orji, Rita. (2020). Insights from user reviews to improve mental health apps. Health Informatics Journal. 26. 146045821989649. 10.1177/1460458219896492. https://www.researchgate.net/publication/338515888_Insights_from_user_reviews_to_improve_mental_health_apps\n",
    "3. <a name=\"cite_note-3\"></a> [^](#cite_ref-3) Funnell, Erin Lucy, et al. “MHealth Solutions for Mental Health Screening and Diagnosis: A Review of APP User Perspectives Using Sentiment and Thematic Analysis.” Frontiers, Frontiers, 26 Apr. 2025, https://www.frontiersin.org/journals/psychiatry/articles/10.3389/fpsyt.2022.857304/full\n",
    "4. <a name=\"cite_note-4\"></a> [^](#cite_ref-4) How We Feel - Apps on Google Play, accessed April 26, 2025, https://play.google.com/store/apps/details?id=org.howwefeel.moodmeter\n",
    "5. <a name=\"cite_note-5\"></a> [^](#cite_ref-5) Kang, D. young, & Ki, E. J. (2025). User Needs and Benefits of Mental Health Chatbots: Text-Mining Analysis of Mobile Apps Reviews. International Journal of Human–Computer Interaction, 1–11. https://doi.org/10.1080/10447318.2025.2490866\n",
    "6. <a name=\"cite_note-6\"></a> [^](#cite_ref-6) Li, Le & Ismail, Noor & Chong, Choo & Sun, Peng & Pervin, Mst & Hossain, Md Shamim. (2024). Customers' emotional impact on star rating and thumbs-up behavior towards food delivery service Apps. Journal of Infrastructure Policy and Development. 8. 5311. 10.24294/jipd.v8i7.5311., https://www.researchgate.net/publication/382695095_Customers'_emotional_impact_on_star_rating_and_thumbs-up_behavior_towards_food_delivery_service_Apps\n",
    "7. <a name=\"cite_note-7\"></a> [^](#cite_ref-7) Martens, Daniel, and Timo Johann. “On the Emotion of Users in App Reviews.” arXiv.Org, 7 Mar. 2017, https://arxiv.org/pdf/1703.02256\n",
    "8. <a name=\"cite_note-8\"></a> [^](#cite_ref-8) Meyer, J., & Okuboyejo, S. (2021). User Reviews of Depression App Features: Sentiment Analysis. JMIR formative research, 5(12), e17062. https://doi.org/10.2196/17062\n",
    "9. <a name=\"cite_note-9\"></a> [^](#cite_ref-9) Wysa: Anxiety, therapy chatbot - Apps on Google Play https://play.google.com/store/apps/details?id=bot.touchkin"
   ]
  },
  {
   "cell_type": "markdown",
   "metadata": {},
   "source": [
    "# Hypothesis\n"
   ]
  },
  {
   "cell_type": "markdown",
   "metadata": {},
   "source": [
    "We hypothesize that there will be a significant positive correlation between the frequency of emotionally supportive sentiment expressed in user reviews and the average Google Play Store rating for the selected AI mental health chatbot apps. This prediction is based on prior research suggesting that positive emotional experiences, particularly feeling understood and supported, strongly influence user satisfaction and subsequent app ratings."
   ]
  },
  {
   "cell_type": "markdown",
   "metadata": {},
   "source": [
    "# Data"
   ]
  },
  {
   "cell_type": "markdown",
   "metadata": {},
   "source": [
    "## Data overview\n",
    "\n",
    "For each dataset include the following information\n",
    "- Dataset #1\n",
    "  - Dataset Name:\n",
    "  - Link to the dataset:\n",
    "  - Number of observations:\n",
    "  - Number of variables:\n",
    "- Dataset #2 (if you have more than one!)\n",
    "  - Dataset Name:\n",
    "  - Link to the dataset:\n",
    "  - Number of observations:\n",
    "  - Number of variables:\n",
    "- etc\n",
    "\n",
    "Now write 2 - 5 sentences describing each dataset here. Include a short description of the important variables in the dataset; what the metrics and datatypes are, what concepts they may be proxies for. Include information about how you would need to wrangle/clean/preprocess the dataset\n",
    "\n",
    "If you plan to use multiple datasets, add a few sentences about how you plan to combine these datasets."
   ]
  },
  {
   "cell_type": "markdown",
   "metadata": {},
   "source": [
    "## Dataset #1 (use name instead of number here)"
   ]
  },
  {
   "cell_type": "code",
   "execution_count": null,
   "metadata": {},
   "outputs": [],
   "source": [
    "## YOUR CODE TO LOAD/CLEAN/TIDY/WRANGLE THE DATA GOES HERE\n",
    "## FEEL FREE TO ADD MULTIPLE CELLS PER SECTION "
   ]
  },
  {
   "cell_type": "markdown",
   "metadata": {},
   "source": [
    "## Dataset #2 (if you have more than one, use name instead of number here)"
   ]
  },
  {
   "cell_type": "code",
   "execution_count": null,
   "metadata": {},
   "outputs": [],
   "source": [
    "## YOUR CODE TO LOAD/CLEAN/TIDY/WRANGLE THE DATA GOES HERE\n",
    "## FEEL FREE TO ADD MULTIPLE CELLS PER SECTION "
   ]
  },
  {
   "cell_type": "code",
   "execution_count": 2,
   "metadata": {},
   "outputs": [
    {
     "data": {
      "text/html": [
       "<div>\n",
       "<style scoped>\n",
       "    .dataframe tbody tr th:only-of-type {\n",
       "        vertical-align: middle;\n",
       "    }\n",
       "\n",
       "    .dataframe tbody tr th {\n",
       "        vertical-align: top;\n",
       "    }\n",
       "\n",
       "    .dataframe thead th {\n",
       "        text-align: right;\n",
       "    }\n",
       "</style>\n",
       "<table border=\"1\" class=\"dataframe\">\n",
       "  <thead>\n",
       "    <tr style=\"text-align: right;\">\n",
       "      <th></th>\n",
       "      <th>id</th>\n",
       "      <th>review</th>\n",
       "      <th>rating</th>\n",
       "      <th>likes</th>\n",
       "      <th>date</th>\n",
       "      <th>app</th>\n",
       "    </tr>\n",
       "  </thead>\n",
       "  <tbody>\n",
       "    <tr>\n",
       "      <th>0</th>\n",
       "      <td>1</td>\n",
       "      <td>I'll be honest, it's not the best sometimes bu...</td>\n",
       "      <td>5</td>\n",
       "      <td>0</td>\n",
       "      <td>2025-05-21</td>\n",
       "      <td>Wysa</td>\n",
       "    </tr>\n",
       "    <tr>\n",
       "      <th>1</th>\n",
       "      <td>2</td>\n",
       "      <td>being able to express my self has taken a lot ...</td>\n",
       "      <td>5</td>\n",
       "      <td>0</td>\n",
       "      <td>2023-04-28</td>\n",
       "      <td>Wysa</td>\n",
       "    </tr>\n",
       "    <tr>\n",
       "      <th>2</th>\n",
       "      <td>3</td>\n",
       "      <td>Care fulfilling loving 🥰</td>\n",
       "      <td>5</td>\n",
       "      <td>0</td>\n",
       "      <td>2023-04-26</td>\n",
       "      <td>Wysa</td>\n",
       "    </tr>\n",
       "    <tr>\n",
       "      <th>3</th>\n",
       "      <td>4</td>\n",
       "      <td>it hels me lot when im in abad situation like ...</td>\n",
       "      <td>5</td>\n",
       "      <td>0</td>\n",
       "      <td>2023-04-26</td>\n",
       "      <td>Wysa</td>\n",
       "    </tr>\n",
       "    <tr>\n",
       "      <th>4</th>\n",
       "      <td>5</td>\n",
       "      <td>helpful</td>\n",
       "      <td>5</td>\n",
       "      <td>0</td>\n",
       "      <td>2023-04-26</td>\n",
       "      <td>Wysa</td>\n",
       "    </tr>\n",
       "    <tr>\n",
       "      <th>...</th>\n",
       "      <td>...</td>\n",
       "      <td>...</td>\n",
       "      <td>...</td>\n",
       "      <td>...</td>\n",
       "      <td>...</td>\n",
       "      <td>...</td>\n",
       "    </tr>\n",
       "    <tr>\n",
       "      <th>15950</th>\n",
       "      <td>9</td>\n",
       "      <td>It's a bit slow at forming messages I don't kn...</td>\n",
       "      <td>4</td>\n",
       "      <td>3</td>\n",
       "      <td>2024-12-28</td>\n",
       "      <td>Empaithy</td>\n",
       "    </tr>\n",
       "    <tr>\n",
       "      <th>15951</th>\n",
       "      <td>10</td>\n",
       "      <td>As you like so you do the best</td>\n",
       "      <td>4</td>\n",
       "      <td>3</td>\n",
       "      <td>2024-10-31</td>\n",
       "      <td>Empaithy</td>\n",
       "    </tr>\n",
       "    <tr>\n",
       "      <th>15952</th>\n",
       "      <td>11</td>\n",
       "      <td>هلو</td>\n",
       "      <td>3</td>\n",
       "      <td>0</td>\n",
       "      <td>2025-01-17</td>\n",
       "      <td>Empaithy</td>\n",
       "    </tr>\n",
       "    <tr>\n",
       "      <th>15953</th>\n",
       "      <td>12</td>\n",
       "      <td>I will be. Able to change the rati! G if can\"</td>\n",
       "      <td>3</td>\n",
       "      <td>3</td>\n",
       "      <td>2024-12-25</td>\n",
       "      <td>Empaithy</td>\n",
       "    </tr>\n",
       "    <tr>\n",
       "      <th>15954</th>\n",
       "      <td>13</td>\n",
       "      <td>Can't do anything until I sign in.</td>\n",
       "      <td>1</td>\n",
       "      <td>0</td>\n",
       "      <td>2025-03-07</td>\n",
       "      <td>Empaithy</td>\n",
       "    </tr>\n",
       "  </tbody>\n",
       "</table>\n",
       "<p>15955 rows × 6 columns</p>\n",
       "</div>"
      ],
      "text/plain": [
       "       id                                             review  rating  likes  \\\n",
       "0       1  I'll be honest, it's not the best sometimes bu...       5      0   \n",
       "1       2  being able to express my self has taken a lot ...       5      0   \n",
       "2       3                           Care fulfilling loving 🥰       5      0   \n",
       "3       4  it hels me lot when im in abad situation like ...       5      0   \n",
       "4       5                                            helpful       5      0   \n",
       "...    ..                                                ...     ...    ...   \n",
       "15950   9  It's a bit slow at forming messages I don't kn...       4      3   \n",
       "15951  10                     As you like so you do the best       4      3   \n",
       "15952  11                                                هلو       3      0   \n",
       "15953  12      I will be. Able to change the rati! G if can\"       3      3   \n",
       "15954  13                 Can't do anything until I sign in.       1      0   \n",
       "\n",
       "             date       app  \n",
       "0      2025-05-21      Wysa  \n",
       "1      2023-04-28      Wysa  \n",
       "2      2023-04-26      Wysa  \n",
       "3      2023-04-26      Wysa  \n",
       "4      2023-04-26      Wysa  \n",
       "...           ...       ...  \n",
       "15950  2024-12-28  Empaithy  \n",
       "15951  2024-10-31  Empaithy  \n",
       "15952  2025-01-17  Empaithy  \n",
       "15953  2024-12-25  Empaithy  \n",
       "15954  2025-03-07  Empaithy  \n",
       "\n",
       "[15955 rows x 6 columns]"
      ]
     },
     "execution_count": 2,
     "metadata": {},
     "output_type": "execute_result"
    }
   ],
   "source": [
    "import pandas as pd\n",
    "from google_play_scraper import Sort, reviews\n",
    "from datetime import datetime\n",
    "\n",
    "def get_clean_reviews(app_package, app_name, cutoff_date, count_per_page=100):\n",
    "    all_reviews = []\n",
    "    continuation_token = None\n",
    "\n",
    "    while True:\n",
    "        result, continuation_token = reviews(\n",
    "            app_package,\n",
    "            lang='en',\n",
    "            sort=Sort.NEWEST, \n",
    "            count=count_per_page,\n",
    "            continuation_token=continuation_token\n",
    "        )\n",
    "        if not result:\n",
    "            break\n",
    "\n",
    "        for review in result:\n",
    "            review_date = review['at']\n",
    "            if review_date >= cutoff_date:\n",
    "                review['app'] = app_name  # Add readable app name to each review\n",
    "                all_reviews.append(review)\n",
    "            else:\n",
    "                continuation_token = None\n",
    "                break\n",
    "        if continuation_token is None:\n",
    "            break\n",
    "\n",
    "    df = pd.DataFrame(all_reviews)\n",
    "    if df.empty:\n",
    "        return df  # Return empty DataFrame if no reviews\n",
    "\n",
    "    df_clean = df[[\"content\", \"score\", \"thumbsUpCount\", \"at\", \"app\"]].copy()\n",
    "    df_clean = df_clean.rename(columns={\n",
    "        \"content\": \"review\",\n",
    "        \"score\": \"rating\",\n",
    "        \"thumbsUpCount\": \"likes\",\n",
    "        \"at\": \"date\"\n",
    "    })\n",
    "    df_clean[\"date\"] = pd.to_datetime(df_clean[\"date\"]).dt.date\n",
    "    df_clean = df_clean.sort_values(by=\"rating\", ascending=False)\n",
    "    df_clean = df_clean.reset_index(drop=True)\n",
    "    df_clean.insert(0, \"id\", range(1, len(df_clean) + 1))\n",
    "    return df_clean\n",
    "\n",
    "# List of app package names and their readable names\n",
    "apps = [\n",
    "    ('bot.touchkin', 'Wysa'),\n",
    "    ('org.howwefeel.moodmeter', 'How We Feel'),\n",
    "    ('com.aheadsolutions.aHead', 'Ahead: Emotions Coach'),\n",
    "    ('com.getmental.mental', 'Mental'),\n",
    "    ('br.com.youper', 'Youper'),\n",
    "    ('xyz.slingshot.ashley.app', 'Ashley'),\n",
    "    ('com.vos.app', 'VOS'),\n",
    "    ('de.moodpath.android', 'Moodpath'),\n",
    "    ('com.mypossibleself.app', 'My Possible Self'),\n",
    "    ('com.cbt.mindhealthy', 'MindHealthy'),\n",
    "    ('com.wave6.onsen', 'Onsen'),\n",
    "    ('com.seasector.emotionalintelligence', 'Emotional Intelligence'),\n",
    "    ('com.woebot', 'Woebot'),\n",
    "    ('com.verbamobileapp', 'Verba'),\n",
    "    ('app.awarefy.awarefyapp', 'Awarefy'),\n",
    "    ('com.getsomeheadspace.android', 'Headspace'),\n",
    "    ('com.empaithy', 'Empaithy')\n",
    "]\n",
    "\n",
    "cutoff_date = datetime(2023, 1, 1)\n",
    "all_cleaned = []\n",
    "\n",
    "for app_package, app_name in apps:\n",
    "    df_app = get_clean_reviews(app_package, app_name, cutoff_date)\n",
    "    if not df_app.empty:\n",
    "        all_cleaned.append(df_app)\n",
    "\n",
    "# Combine all cleaned DataFrames into one dataset with an 'app' column\n",
    "df_combined = pd.concat(all_cleaned, ignore_index=True)\n",
    "df_combined.to_csv(\"combined_clean_reviews.csv\", index=False)\n",
    "df_combined"
   ]
  },
  {
   "cell_type": "markdown",
   "metadata": {},
   "source": [
    "# Results\n",
    "\n",
    "## Exploratory Data Analysis\n",
    "\n",
    "Carry out whatever EDA you need to for your project.  Because every project will be different we can't really give you much of a template at this point. But please make sure you describe the what and why in text here as well as providing interpretation of results and context."
   ]
  },
  {
   "cell_type": "markdown",
   "metadata": {},
   "source": [
    "### Section 1 of EDA - please give it a better title than this\n",
    "\n",
    "Some more words and stuff.  Remember notebooks work best if you interleave the code that generates a result with properly annotate figures and text that puts these results into context."
   ]
  },
  {
   "cell_type": "code",
   "execution_count": null,
   "metadata": {},
   "outputs": [],
   "source": [
    "## YOUR CODE HERE\n",
    "## FEEL FREE TO ADD MULTIPLE CELLS PER SECTION"
   ]
  },
  {
   "cell_type": "markdown",
   "metadata": {},
   "source": [
    "### Section 2 of EDA if you need it  - please give it a better title than this\n",
    "\n",
    "Some more words and stuff.  Remember notebooks work best if you interleave the code that generates a result with properly annotate figures and text that puts these results into context."
   ]
  },
  {
   "cell_type": "code",
   "execution_count": null,
   "metadata": {},
   "outputs": [],
   "source": [
    "## YOUR CODE HERE\n",
    "## FEEL FREE TO ADD MULTIPLE CELLS PER SECTION"
   ]
  },
  {
   "cell_type": "markdown",
   "metadata": {},
   "source": [
    "# Ethics & Privacy"
   ]
  },
  {
   "cell_type": "markdown",
   "metadata": {},
   "source": [
    "- Thoughtful discussion of ethical concerns included\n",
    "- Ethical concerns consider the whole data science process (question asked, data collected, data being used, the bias in data, analysis, post-analysis, etc.)\n",
    "- How your group handled bias/ethical concerns clearly described\n",
    "\n",
    "Acknowledge and address any ethics & privacy related issues of your question(s), proposed dataset(s), and/or analyses. Use the information provided in lecture to guide your group discussion and thinking. If you need further guidance, check out [Deon's Ethics Checklist](http://deon.drivendata.org/#data-science-ethics-checklist). In particular:\n",
    "\n",
    "- Are there any biases/privacy/terms of use issues with the data you propsed?\n",
    "- Are there potential biases in your dataset(s), in terms of who it composes, and how it was collected, that may be problematic in terms of it allowing for equitable analysis? (For example, does your data exclude particular populations, or is it likely to reflect particular human biases in a way that could be a problem?)\n",
    "- How will you set out to detect these specific biases before, during, and after/when communicating your analysis?\n",
    "- Are there any other issues related to your topic area, data, and/or analyses that are potentially problematic in terms of data privacy and equitable impact?\n",
    "- How will you handle issues you identified?"
   ]
  },
  {
   "cell_type": "markdown",
   "metadata": {},
   "source": [
    "# Team Expectations "
   ]
  },
  {
   "cell_type": "markdown",
   "metadata": {},
   "source": [
    "\n",
    "Read over the [COGS108 Team Policies](https://github.com/COGS108/Projects/blob/master/COGS108_TeamPolicies.md) individually. Then, include your group’s expectations of one another for successful completion of your COGS108 project below. Discuss and agree on what all of your expectations are. Discuss how your team will communicate throughout the quarter and consider how you will communicate respectfully should conflicts arise. By including each member’s name above and by adding their name to the submission, you are indicating that you have read the COGS108 Team Policies, accept your team’s expectations below, and have every intention to fulfill them. These expectations are for your team’s use and benefit — they won’t be graded for their details.\n",
    "\n",
    "* *Team Expectation 1*\n",
    "* *Team Expectation 2*\n",
    "* *Team Expecation 3*\n",
    "* ..."
   ]
  },
  {
   "cell_type": "markdown",
   "metadata": {},
   "source": [
    "# Project Timeline Proposal"
   ]
  },
  {
   "cell_type": "markdown",
   "metadata": {},
   "source": [
    "Our team has developed a detailed weekly plan to guide our final project, which investigates the relationship between user sentiment in mental health chatbot app reviews and their corresponding star ratings on the Google Play Store. We are using a Google Play Store API/web scraper to collect review data and plan to apply sentiment analysis techniques to quantify emotional tone. All methods and tools fall within the scope of COGS 108 as far as we are aware, and we do not currently anticipate needing additional resources or training beyond course materials.\n",
    "\n",
    "Each team member has actively participated in regular communication, and we have agreed to maintain consistent daily check-ins through group messaging to ensure progress, clarify responsibilities, and evenly distribute tasks. While roles are not permanently assigned, responsibilities are flexibly shared and adjusted week-to-week to accommodate individual availability, ensuring balanced collaboration and workload across the team.\n",
    "\n",
    "The table below outlines our scheduled meetings, deliverables, and key milestones throughout the quarter.\n",
    "\n",
    "\n",
    "| Meeting Date  | Meeting Time| Completed Before Meeting  | Discuss at Meeting |\n",
    "|---|---|---|---|\n",
    "| 4/14  |  1 PM DIB 121| Each member reviewed the COGS 108 guidelines and explored potential research topics involving app ratings.  | Established group communication (Group Message & Zoom). We set team expectations and brainstormed 3–5 initial topic ideas. | \n",
    "| 4/21  |  1 PM  DIB 121| Each member brought one specific research question, one dataset source idea and any potential datasets they were able to find based on their research question.  | Narrowed to a focus on AI chatbots in mental health (originally healthcare) and user review sentiment vs. Google Play Store star ratings. Began discussing project scope and team expectations for the Project Review. | \n",
    "| 4/24  |  2:30 PM  ZOOM| Each member reviewed the COGS 108 guidelines and further explored potential prior research on mental health or topics involving app ratings.  | Finalized research question and discussed different skills among group members toward project strengths. Confirmed division of tasks with consistent asynchronous check-ins via messages and collaboration/communication in our Google Doc; Set timeline for Project Proposal at Week 5 discussion. | \n",
    "| 4/28  |  1 PM DIB 121| Conducted literature review on sentiment analysis of app reviews; researched Google Play store web scraping. Checked in for 90%+ completion of Project Proposal. | Finalized remaining Project Proposal sections and each member proofread all updated changes and collaborated to an agreement on our current proposal by end of discussion and remotely via messages. | \n",
    "| 4/30  |  1 PM ASYNC/ZOOM| Each member final reviews the Project Proposal on GitHub and proofreads for the final time.  | Ensure Proposal completed and uploaded to GitHub Repo before 11:59p.m. | \n",
    "| 5/5  |  1 PM  DIB 121| Make any corrections needed based on Project Proposal Feedback. Finalize datasets to use in Data Checkpoint to discuss and continue working with in Discussion. Begin scraping app reviews and star ratings using a [Google Play Store API/web scraper](https://github.com/facundoolano/google-play-scraper).  | Start cleaning data and review scraping progress; finalize data fields (text, star rating, metadata). Set progress check-in goals for during the week before 5/14 due date. | \n",
    "| 5/11  |  8 PM Zoom| Discussed the responsibilities of each group member and distribute the work for data checkpoint. Review the feedback we received for project proposal. | Start cleaning data and review scraping progress; finalize data fields (text, star rating, metadata). Meet up one more time before submission | \n",
    "| 5/12  |  1 PM  DIB 121| Explore existing online APIs for Google Play store reviews. Expand on web scraping and pulling the data into a singular dataset. Explore features for correlation analysis. Ensure each member transfers a section from the Project Proposal notebook to the Data Checkpoint notebook for Git practice.  | Find methods to correlate scores with Google Play Store ratings. Validate the results with a sample of reviews. Create any follow-up edits to the data checkpoint and meetings necessary before the 5/14 submission due date. | \n",
    "| 5/19  |  1 PM  DIB 121| Extract emotionally supportive sentiments from reviews. We will finalize a structured CSV containing the cleaned dataset: app name, review, sentiment score, and star rating, with any corrections from Checkpoint #1 Feedback. We run statistical tests (possibly Pearson correlation) between sentiment scores and ratings. We generate visualizations (box plots, histograms, scatter plots) based on which visualization we find most effective using Seaborn and Matplotlib. | We interpret statistical results and finalize which visualizations are best for communicating key findings. We begin outlining the Results and Discussion sections of the report and delegate the writing, editing and reviewing prior to next meeting. |\n",
    "| 5/26  |  1 PM  DIB 121| All written sections (Introduction, Setup, Data Cleaning, Results) are combined into a single draft. We ensure all submitted files meet guideline formatting, naming conventions, and contain proper citations. We make final EDA tweaks as needed. | We hold a team review of the full report. Each member provides peer feedback on clarity and visual layout. Ensure all information is in the correct notebook and updated to Github. We'll begin scripting and scheduling time to record the project video. |\n",
    "| 6/2  |  1 PM  DIB 121| Continue planning and editing the video script. Finalize scheduled time to record the project video. Set expectations for the Final Report editing and video compilation/editing.  | We finalize editing on the report and continue working on/editing video, upload files to Final Report Notebook on our repo, and review the rubric one last time to ensure all requirements are met. Set a meeting date during 6/5-6/9 to communicate progress/troubles/adjustments to timelines before Final due date next week. |\n",
    "| 6/9  |  ZOOM | Finalize the report, prepare the presentation, and improve visuals. We commit our finalized report to Github, video link, and begin group self-evaluation survey.  | We reflect on the project, ensure all members complete team surveys individually, and share final thoughts to completed prior to 6/13 deadline to ensure accurate representation of the rubric. Decide which group member will submit group video to Canvas. |"
   ]
  }
 ],
 "metadata": {
  "kernelspec": {
   "display_name": "base",
   "language": "python",
   "name": "python3"
  },
  "language_info": {
   "codemirror_mode": {
    "name": "ipython",
    "version": 3
   },
   "file_extension": ".py",
   "mimetype": "text/x-python",
   "name": "python",
   "nbconvert_exporter": "python",
   "pygments_lexer": "ipython3",
   "version": "3.12.7"
  }
 },
 "nbformat": 4,
 "nbformat_minor": 2
}
