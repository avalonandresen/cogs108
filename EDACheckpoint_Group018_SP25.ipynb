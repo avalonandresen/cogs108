{
 "cells": [
  {
   "cell_type": "markdown",
   "metadata": {},
   "source": [
    "**If you lost points on the last checkpoint you can get them back by responding to TA/IA feedback**  \n",
    "\n",
    "Update/change the relevant sections where you lost those points, make sure you respond on GitHub Issues to your TA/IA to call their attention to the changes you made here.\n",
    "\n",
    "Please update your Timeline... no battle plan survives contact with the enemy, so make sure we understand how your plans have changed."
   ]
  },
  {
   "cell_type": "markdown",
   "metadata": {},
   "source": [
    "# COGS 108 - EDA Checkpoint"
   ]
  },
  {
   "cell_type": "markdown",
   "metadata": {},
   "source": [
    "# Names\n",
    "\n",
    "- Avalon Andresen\n",
    "- Johnny Nguyen\n",
    "- Karen Li\n",
    "- Parinita Saha\n",
    "- Youna Cho"
   ]
  },
  {
   "cell_type": "markdown",
   "metadata": {},
   "source": [
    "# Research Question"
   ]
  },
  {
   "cell_type": "markdown",
   "metadata": {},
   "source": [
    "Across a diverse set of AI mental health chatbot apps, is there a significant positive correlation between the frequency of emotionally supportive sentiment expressed in user reviews as identified through sentiment analysis and the average Google Play Store rating?"
   ]
  },
  {
   "cell_type": "markdown",
   "metadata": {},
   "source": [
    "## Background and Prior Work"
   ]
  },
  {
   "cell_type": "markdown",
   "metadata": {},
   "source": [
    "The growing emphasis on mental well-being, significantly highlighted by the COVID-19 pandemic and the subsequent Demand for remote support, has coincided with the rapid expansion of digital Technologies in the emergence of numerous mental health applications. Recognizing the critical role of mental health and overall wellness, individuals are increasingly seeking accessible and convenient digital support systems. This surge has given rise to a diverse landscape of mental health applications designed to assist users in navigating the complexities of stress, anxiety, depression, and a spectrum of other emotional challenges.\n",
    "\n",
    " As a result, user reviews have become an invaluable source of authentic information, providing a direct window into the real-world experiences of individuals utilizing these digital tools. These first-hand accounts offer rich insights into the aspects of these apps that users find beneficial, the challenges they encounter, and the overall effectiveness of these platforms in supporting their mental well-being. Natural Language Processing (NLP) techniques, especially sentiment analysis, are crucial for deciphering the emotional nuances in these user-generated texts.<a name=\"cite_ref-6\"></a>[<sup>6</sup>](#cite_note-6)\n",
    "\n",
    " While star ratings provide a general indication of user satisfaction, the detailed textual feedback in reviews, when subjected to sentiment analysis, can pinpoint specific features or aspects of an app that elicit positive or negative emotions.<a name=\"cite_ref-7\"></a>[<sup>7</sup>](#cite_note-7) This granular feedback is incredibly valuable for app developers, enabling them to identify areas for improvement, refine existing features, and better cater to the evolving needs of their user base.<a name=\"cite_ref-2\"></a>[<sup>2</sup>](#cite_note-2) This connection underscores the critical importance of fostering positive user experiences, as higher app ratings often translate into increased downloads, greater user trust, and ultimately, the sustained success of the application.\n",
    "\n",
    "This report examines the correlation between emotionally supportive sentiment in user reviews and Google Play Store ratings across a diverse collection of AI mental health chatbot apps. While our initial exploration focused on apps like \"Wysa\", \"Ahead: Emotions Coach\", and \"How We Feel\" as representative examples of the types of AI mental health chatbot apps we are investigating, our expanded analysis now includes a broader set of a total of **20 distinct applications** to provide a more robust understanding of this relationship.\n",
    "\n",
    "- **Wysa: The Empathetic AI Chatbot Companion**\n",
    "\n",
    "    Wysa stands out as a pioneering AI-powered mental health support chatbot, designed to offer 24/7 anonymous emotional support through evidence-based techniques.<a name=\"cite_ref-9\"></a>[<sup>9</sup>](#cite_note-9) \n",
    "\n",
    "- **How We Feel: Empowering Emotional Awareness and Regulation**\n",
    "\n",
    "    How We Feel offers a unique approach to mental well-being by focusing on helping users understand and regulate their emotions through a visually intuitive mood meter.<a name=\"cite_ref-4\"></a>[<sup>4</sup>](#cite_note-4) Developed in conjunction with Yale University's Center for Emotional Intelligence, the app encourages users to identify and track their feelings, learn about their causes, and discover effective regulation strategies.<a name=\"cite_ref-4\"></a>[<sup>4</sup>](#cite_note-4) \n",
    "\n",
    "- **Ahead Emotions Coach: Your Personal Guide to Emotional Intelligence**\n",
    "\n",
    "    Ahead Emotions Coach takes a distinct approach by focusing on improving users' emotional intelligence through short, interactive sessions grounded in behavioral science. Often, it is referred to as the Duolingo for emotional intelligence.<a name=\"cite_ref-1\"></a>[<sup>1</sup>](#cite_note-1) \n",
    "\n",
    "\n",
    "<table style=\"border-collapse: collapse; width: 100%; font-family: Arial, sans-serif; text-align: center; border: 1px solid #ddd; border-radius: 10px; overflow: hidden; max-width: 70%; margin: 30px;\">\n",
    "  <thead>\n",
    "<tr style=\"background-color: rgb(243, 243, 243); color: rgb(77, 74, 74); border: 1px solid #ddd;\">\n",
    "      <th style=\"border: 1px solid #ddd; padding: 8px; text-align: center;\">App Name</th>\n",
    "      <th style=\"border: 1px solid #ddd; padding: 8px; text-align: center;\">Average Google Play Store Rating</th>\n",
    "      <th style=\"border: 1px solid #ddd; padding: 8px; text-align: center;\">Number of Reviews</th>\n",
    "      <th style=\"border: 1px solid #ddd; padding: 8px; text-align: center;\">Downloads</th>\n",
    "    </tr>\n",
    "  </thead>\n",
    "  <tbody>\n",
    "    <tr>\n",
    "      <td style=\"border: 1px solid #ddd; padding: 8px;\">Wysa</td>\n",
    "      <td style=\"border: 1px solid #ddd; padding: 8px;\">4.6</td>\n",
    "      <td style=\"border: 1px solid #ddd; padding: 8px;\">151K</td>\n",
    "      <td style=\"border: 1px solid #ddd; padding: 8px;\">1M+</td>\n",
    "    </tr>\n",
    "    <tr>\n",
    "      <td style=\"border: 1px solid #ddd; padding: 8px;\">How We Feel</td>\n",
    "      <td style=\"border: 1px solid #ddd; padding: 8px;\">4.5</td>\n",
    "      <td style=\"border: 1px solid #ddd; padding: 8px;\">2.87K</td>\n",
    "      <td style=\"border: 1px solid #ddd; padding: 8px;\">100K+</td>\n",
    "    </tr>\n",
    "    <tr>\n",
    "      <td style=\"border: 1px solid #ddd; padding: 8px;\">Ahead: Emotions Coach</td>\n",
    "      <td style=\"border: 1px solid #ddd; padding: 8px;\">4.1</td>\n",
    "      <td style=\"border: 1px solid #ddd; padding: 8px;\">300</td>\n",
    "      <td style=\"border: 1px solid #ddd; padding: 8px;\">10K+</td>\n",
    "    </tr>\n",
    "    <tr>\n",
    "      <td style=\"border: 1px solid #ddd; padding: 8px;\">Mental: AI Therapy</td>\n",
    "      <td style=\"border: 1px solid #ddd; padding: 8px;\">4.7</td>\n",
    "      <td style=\"border: 1px solid #ddd; padding: 8px;\">1.36K</td>\n",
    "      <td style=\"border: 1px solid #ddd; padding: 8px;\">50K+</td>\n",
    "    </tr>\n",
    "    <tr>\n",
    "      <td style=\"border: 1px solid #ddd; padding: 8px;\">Youper: AI Therapy</td>\n",
    "      <td style=\"border: 1px solid #ddd; padding: 8px;\">3.9</td>\n",
    "      <td style=\"border: 1px solid #ddd; padding: 8px;\">49.4K</td>\n",
    "      <td style=\"border: 1px solid #ddd; padding: 8px;\">1M+</td>\n",
    "    </tr>\n",
    "    <tr>\n",
    "      <td style=\"border: 1px solid #ddd; padding: 8px;\">Ash: AI Therapy</td>\n",
    "      <td style=\"border: 1px solid #ddd; padding: 8px;\">4.8</td>\n",
    "      <td style=\"border: 1px solid #ddd; padding: 8px;\">627</td>\n",
    "      <td style=\"border: 1px solid #ddd; padding: 8px;\">10K+</td>\n",
    "    </tr>\n",
    "    <tr>\n",
    "      <td style=\"border: 1px solid #ddd; padding: 8px;\">VOS: Mental Health, AI Therapy</td>\n",
    "      <td style=\"border: 1px solid #ddd; padding: 8px;\">4.4</td>\n",
    "      <td style=\"border: 1px solid #ddd; padding: 8px;\">48.1K</td>\n",
    "      <td style=\"border: 1px solid #ddd; padding: 8px;\">1M+</td>\n",
    "    </tr>\n",
    "    <tr>\n",
    "      <td style=\"border: 1px solid #ddd; padding: 8px;\">MindDoc: Mental Health Support</td>\n",
    "      <td style=\"border: 1px solid #ddd; padding: 8px;\">4.2</td>\n",
    "      <td style=\"border: 1px solid #ddd; padding: 8px;\">39.6K</td>\n",
    "      <td style=\"border: 1px solid #ddd; padding: 8px;\">1M+</td>\n",
    "    </tr>\n",
    "    <tr>\n",
    "      <td style=\"border: 1px solid #ddd; padding: 8px;\">MyPossibleSelf: Mental Health</td>\n",
    "      <td style=\"border: 1px solid #ddd; padding: 8px;\">4.7</td>\n",
    "      <td style=\"border: 1px solid #ddd; padding: 8px;\">5.63</td>\n",
    "      <td style=\"border: 1px solid #ddd; padding: 8px;\">500K+</td>\n",
    "    </tr>\n",
    "    <tr>\n",
    "      <td style=\"border: 1px solid #ddd; padding: 8px;\">MindHealth: CBT Mental Health</td>\n",
    "      <td style=\"border: 1px solid #ddd; padding: 8px;\">4.7</td>\n",
    "      <td style=\"border: 1px solid #ddd; padding: 8px;\">5.17K</td>\n",
    "      <td style=\"border: 1px solid #ddd; padding: 8px;\">100K+</td>\n",
    "    </tr>\n",
    "    <tr>\n",
    "      <td style=\"border: 1px solid #ddd; padding: 8px;\">Onsen: AI for Mental Health</td>\n",
    "      <td style=\"border: 1px solid #ddd; padding: 8px;\">4.7</td>\n",
    "      <td style=\"border: 1px solid #ddd; padding: 8px;\">163</td>\n",
    "      <td style=\"border: 1px solid #ddd; padding: 8px;\">5K+</td>\n",
    "    </tr>\n",
    "      <tr>\n",
    "      <td style=\"border: 1px solid #ddd; padding: 8px;\">Sintelly: CBT Therapy Chatbot</td>\n",
    "      <td style=\"border: 1px solid #ddd; padding: 8px;\">4.4</td>\n",
    "      <td style=\"border: 1px solid #ddd; padding: 8px;\">10.3K</td>\n",
    "      <td style=\"border: 1px solid #ddd; padding: 8px;\">1M+</td>\n",
    "    </tr>\n",
    "      <tr>\n",
    "      <td style=\"border: 1px solid #ddd; padding: 8px;\">Woebot: The Mental Health Ally</td>\n",
    "      <td style=\"border: 1px solid #ddd; padding: 8px;\">3.6</td>\n",
    "      <td style=\"border: 1px solid #ddd; padding: 8px;\">12.5K</td>\n",
    "      <td style=\"border: 1px solid #ddd; padding: 8px;\">500K+</td>\n",
    "    </tr>\n",
    "      <tr>\n",
    "      <td style=\"border: 1px solid #ddd; padding: 8px;\">TalkLife: Peer Support</td>\n",
    "      <td style=\"border: 1px solid #ddd; padding: 8px;\">3.7</td>\n",
    "      <td style=\"border: 1px solid #ddd; padding: 8px;\">37.8K</td>\n",
    "      <td style=\"border: 1px solid #ddd; padding: 8px;\">1M+</td>\n",
    "    </tr>\n",
    "      <tr>\n",
    "      <td style=\"border: 1px solid #ddd; padding: 8px;\">Awarefy: AI Mental Partner</td>\n",
    "      <td style=\"border: 1px solid #ddd; padding: 8px;\">3.8</td>\n",
    "      <td style=\"border: 1px solid #ddd; padding: 8px;\">2.08K</td>\n",
    "      <td style=\"border: 1px solid #ddd; padding: 8px;\">100K+</td>\n",
    "    </tr>\n",
    "      <tr>\n",
    "      <td style=\"border: 1px solid #ddd; padding: 8px;\">Headspace: Meditation and Health</td>\n",
    "      <td style=\"border: 1px solid #ddd; padding: 8px;\">4.4</td>\n",
    "      <td style=\"border: 1px solid #ddd; padding: 8px;\">333K</td>\n",
    "      <td style=\"border: 1px solid #ddd; padding: 8px;\">10M+</td>\n",
    "    </tr>\n",
    "      <tr>\n",
    "      <td style=\"border: 1px solid #ddd; padding: 8px;\">Empaithy: AI for Mental Health</td>\n",
    "      <td style=\"border: 1px solid #ddd; padding: 8px;\">3.6</td>\n",
    "      <td style=\"border: 1px solid #ddd; padding: 8px;\">44</td>\n",
    "      <td style=\"border: 1px solid #ddd; padding: 8px;\">10K+</td>\n",
    "    </tr>\n",
    "      <tr>\n",
    "      <td style=\"border: 1px solid #ddd; padding: 8px;\">Deepen: AI Companion & Friend</td>\n",
    "      <td style=\"border: 1px solid #ddd; padding: 8px;\">4.2</td>\n",
    "      <td style=\"border: 1px solid #ddd; padding: 8px;\">798</td>\n",
    "      <td style=\"border: 1px solid #ddd; padding: 8px;\">10K+</td>\n",
    "    </tr>\n",
    "      <tr>\n",
    "      <td style=\"border: 1px solid #ddd; padding: 8px;\">Pensive - Therapy AI</td>\n",
    "      <td style=\"border: 1px solid #ddd; padding: 8px;\">3.9</td>\n",
    "      <td style=\"border: 1px solid #ddd; padding: 8px;\">72</td>\n",
    "      <td style=\"border: 1px solid #ddd; padding: 8px;\">5K+</td>\n",
    "    </tr>\n",
    "      <tr>\n",
    "      <td style=\"border: 1px solid #ddd; padding: 8px;\">7 Cups: Online Therapy and Chat</td>\n",
    "      <td style=\"border: 1px solid #ddd; padding: 8px;\">3.7</td>\n",
    "      <td style=\"border: 1px solid #ddd; padding: 8px;\">21.8K</td>\n",
    "      <td style=\"border: 1px solid #ddd; padding: 8px;\">1M+</td>\n",
    "    </tr>\n",
    "  </tbody>\n",
    "</table>\n",
    "\n",
    "Prior research has explored the application of sentiment analysis to app reviews across various domains, including health and food delivery services, often finding a positive correlation between positive sentiment and higher app ratings.<a name=\"cite_ref-6\"></a>[<sup>6</sup>](#cite_note-6) For instance, a study on food delivery apps highlighted the impact of emotional cues in user reviews on star ratings.<a name=\"cite_ref-6\"></a>[<sup>6</sup>](#cite_note-6) Similarly, research in the mental health domain has used NLP techniques to analyze user feedback, aiming to improve app design and user engagement.<a name=\"cite_ref-3\"></a>[<sup>3</sup>](#cite_note-3)\n",
    "\n",
    "One key area of focus in mental health app evaluation is the concept of emotionally supportive sentiment. This refers to expressions in user reviews indicating that the app made them feel understood, cared for, or validated.<a name=\"cite_ref-5\"></a>[<sup>5</sup>](#cite_note-5) We define emotionally supportive sentiment as expressions in user reviews that indicate feeling heard, understood, or emotionally uplifted, such as 'I felt less alone,' 'this app gets me,' or 'the chatbot really helped me through a tough time.' Given that individuals often turn to mental health apps seeking a safe and empathetic space,<a name=\"cite_ref-5\"></a>[<sup>5</sup>](#cite_note-5) the presence of such sentiment in reviews could be a strong indicator of an app's ability to meet user needs. A study analyzing user reviews of depression apps found that therapeutic treatment app features, like games, generated more positive emotions in users.<a name=\"cite_ref-8\"></a>[<sup>8</sup>](#cite_note-8) This suggests that the specific features and the resulting emotional responses play a significant role in user perception. \n",
    "\n",
    "Our research builds upon this foundation by specifically investigating the correlation between the frequency of emotionally supportive sentiment and the overall Google Play Store rating for a focused set of AI mental health chatbot apps. By examining this relationship across a broader collection of 20 apps, we aim to provide valuable insights for developers looking to enhance user satisfaction and app store performance in this increasingly important sector. Understanding this relationship can inform app developers how to better design emotionally intelligent AI systems that meet users' psychological needs, potentially increasing engagement and app effectiveness.\n",
    "\n",
    "<br>\n",
    "\n",
    "_**It is important to note** that our findings are based on a collection of 20 apps, which, while an improvement over our initial scope, still represents a limited sample of the full spectrum of AI mental health chatbot apps available had we been able to account for apps across multiple App Store platforms. We are aware of this limitation and have endeavored to address it by selecting a diverse range of apps within this category._\n",
    "\n",
    "References:\n",
    "1. <a name=\"cite_note-1\"></a> [^](#cite_ref-1) Ahead: Emotions Coach - Apps on Google Play, accessed April 26, 2025, https://play.google.com/store/apps/details?id=com.aheadsolutions.aHead\n",
    "2. <a name=\"cite_note-2\"></a> [^](#cite_ref-2) Alqahtani, Felwah & Orji, Rita. (2020). Insights from user reviews to improve mental health apps. Health Informatics Journal. 26. 146045821989649. 10.1177/1460458219896492. https://www.researchgate.net/publication/338515888_Insights_from_user_reviews_to_improve_mental_health_apps\n",
    "3. <a name=\"cite_note-3\"></a> [^](#cite_ref-3) Funnell, Erin Lucy, et al. “MHealth Solutions for Mental Health Screening and Diagnosis: A Review of APP User Perspectives Using Sentiment and Thematic Analysis.” Frontiers, Frontiers, 26 Apr. 2025, https://www.frontiersin.org/journals/psychiatry/articles/10.3389/fpsyt.2022.857304/full\n",
    "4. <a name=\"cite_note-4\"></a> [^](#cite_ref-4) How We Feel - Apps on Google Play, accessed April 26, 2025, https://play.google.com/store/apps/details?id=org.howwefeel.moodmeter\n",
    "5. <a name=\"cite_note-5\"></a> [^](#cite_ref-5) Kang, D. young, & Ki, E. J. (2025). User Needs and Benefits of Mental Health Chatbots: Text-Mining Analysis of Mobile Apps Reviews. International Journal of Human–Computer Interaction, 1–11. https://doi.org/10.1080/10447318.2025.2490866\n",
    "6. <a name=\"cite_note-6\"></a> [^](#cite_ref-6) Li, Le & Ismail, Noor & Chong, Choo & Sun, Peng & Pervin, Mst & Hossain, Md Shamim. (2024). Customers' emotional impact on star rating and thumbs-up behavior towards food delivery service Apps. Journal of Infrastructure Policy and Development. 8. 5311. 10.24294/jipd.v8i7.5311., https://www.researchgate.net/publication/382695095_Customers'_emotional_impact_on_star_rating_and_thumbs-up_behavior_towards_food_delivery_service_Apps\n",
    "7. <a name=\"cite_note-7\"></a> [^](#cite_ref-7) Martens, Daniel, and Timo Johann. “On the Emotion of Users in App Reviews.” arXiv.Org, 7 Mar. 2017, https://arxiv.org/pdf/1703.02256\n",
    "8. <a name=\"cite_note-8\"></a> [^](#cite_ref-8) Meyer, J., & Okuboyejo, S. (2021). User Reviews of Depression App Features: Sentiment Analysis. JMIR formative research, 5(12), e17062. https://doi.org/10.2196/17062\n",
    "9. <a name=\"cite_note-9\"></a> [^](#cite_ref-9) Wysa: Anxiety, therapy chatbot - Apps on Google Play https://play.google.com/store/apps/details?id=bot.touchkin"
   ]
  },
  {
   "cell_type": "markdown",
   "metadata": {},
   "source": [
    "# Hypothesis\n"
   ]
  },
  {
   "cell_type": "markdown",
   "metadata": {},
   "source": [
    "We hypothesize that there will be a significant positive correlation between the frequency of emotionally supportive sentiment expressed in user reviews and the average Google Play Store rating for the selected AI mental health chatbot apps. This prediction is based on prior research suggesting that positive emotional experiences, particularly feeling understood and supported, strongly influence user satisfaction and subsequent app ratings."
   ]
  },
  {
   "cell_type": "markdown",
   "metadata": {},
   "source": [
    "# Data\n",
    "\n",
    "In order to investigate the correlation between emotionally supportive sentiment in user reviews and Google Play Store ratings for AI mental health chatbot apps, we will collect publicly available user review data from the Google Play Store for a diverse set of 20 AI mental health chatbot applications. Based on the reviews, we will analyze variables which include the review message itself, star rating, date of the review, a boolean value (potentially by custom keyword lists, manual labeling, or a combination) determining if the review expressed emotionally supportive sentiment or not (matching for phrases indicating empathy, validation, and care), and which app the review was for. \n",
    "\n",
    "Since the apps were developed/released at different times and have changed throughout the years, we want to narrow the time frame to reviews from 2023 to the present. This timeframe aims to capture more recent data, disregarding reviews from outdated versions of the app or when the AI technology was not as advanced, ensuring a better consistency across apps regarding AI evolution, which reflects current societal views on mental health. \n",
    "\n",
    "We used web scraping tools like the [Google Play Scraper API](https://pypi.org/project/google-play-scraper/) to organize the reviews from each app into usable datasets. \n",
    "The dataset primarily comprises app reviews, which inherently contain rich textual data reflecting user sentiment, experiences, and perceived emotional support. Each review typically includes:\n",
    "- Review Text: The qualitative feedback provided by the user.\n",
    "- Star Rating: A quantitative measure of user satisfaction (typically on a scale of 1 to 5).\n",
    "- Likes/Helpful Votes: Indicators of how other users perceive the utility or resonance of a review.\n",
    "- Date of Review: Temporal information for tracking trends.\n",
    "\n",
    "Libraries and Tools\n",
    "Our analysis is performed using Python, leveraging a suite of powerful libraries for data manipulation, web scraping, natural language processing, and visualization. The key libraries utilized in this project for data cleaning include:\n",
    "- pandas: Essential for efficient data loading, cleaning, and manipulation, including handling DataFrames, filtering rows, and creating new columns.\n",
    "- seaborn: Provides a high-level interface for drawing attractive and informative statistical graphics, enhancing our data visualizations.\n",
    "- google_play_scraper: Used for web scraping publicly available user review data from the Google Play Store.\n",
    "- datetime: Utilized for handling and comparing date and time objects, particularly for filtering reviews by a specific cutoff date.\n",
    "- vaderSentiment: Specifically, SentimentIntensityAnalyzer from this library is used for performing Valence Aware Dictionary and sEntiment Reasoner (VADER) sentiment analysis on the review text.\n",
    "\n",
    "The ideal dataset might involve direct access to anonymized app usage data and user feedback provided through in-app surveys or consent-based data sharing, which would offer richer insights beyond just the text of the reviews. Since each app has a varying number of reviews, we intend to use all the reviews from the timeframe. We will only consider English reviews to keep the reviews consistent, and we are going to remove reviews less than 3 words to have more context for our sentiment analysis and to prevent bias towards positive or negative reviews. \n",
    "\n",
    "Overall, the primary limitation of our real-world data will be the limited amount of apps available (20 aps) which is a limitation we attempted to address to the best of our ability. Similarly, there is also a lack of direct access to user engagement and detailed demographic information, which could provide additional context but are not central to our current research focus on the relationship between review sentiment and app ratings."
   ]
  },
  {
   "cell_type": "markdown",
   "metadata": {},
   "source": [
    "## Data Overview\n",
    "\n",
    "20apps_reviews_cleaned Dataset: This dataset combines user reviews (17,479) from 20 different mental health chatbot apps retrieved from the Google Play Store. We extracted and renamed 5 key variables from the dataset: 'id' (the unique identifier for each review, stored as an integer), 'review' (the user's feedback message, stored as a string), 'rating' (the user's numerical rating from a scale of 1-5, stored as an integer), 'likes' (the number of likes the review message received, stored as an integer), and 'date' (the date when the review was posted, stored as a string). The 'rating' variable represents user satisfaction/sentiment towards the specific app, while the 'likes' variable is a proxy for how useful a review is perceived to be. To clean the dataset, we included variables relevant to our data analysis while excluding information such as the username to adhere to privacy concerns. Furthermore, we sorted the data by user rating (highest to lowest) to improve clarity and enable accurate sentiment analysis. We performed data wrangling by extracting reviews from the apps, filtering all twenty apps by a cutoff date of January 1, 2023 to the present. Lastly, we renamed the relevant columns ('content', 'score', 'thumbsUpCount', 'at') to 'review', 'rating', 'likes', and 'date'.\n",
    "\n",
    "To examine the correlation between emotionally supportive sentiment in reviews and Google Play Store ratings, we plan on combining the reviews of the 20 AI mental health chatbots through data wrangling. Since the datasets share the same columns ('id', 'review', 'rating', 'likes', 'date'), we will concatenate them vertically and add an 'app' column to identify the source of each review. Furthermore, we intend to implement reusable functions that take the twenty apps as input to avoid code redundancy and facilitate the efficiency of our analysis.\n",
    "\n",
    "Links to App Reviews:\n",
    "\n",
    "1. https://play.google.com/store/apps/details?id=bot.touchkin&hl=en_US\n",
    "2. https://play.google.com/store/apps/details?id=org.howwefeel.moodmeter&hl=en_US\n",
    "3. https://play.google.com/store/apps/details?id=com.aheadsolutions.aHead&hl=en_US\n",
    "4. https://play.google.com/store/apps/details?id=com.getmental.mental\n",
    "5. https://play.google.com/store/apps/details?id=br.com.youper\n",
    "6. https://play.google.com/store/apps/details?id=xyz.slingshot.ashley.app\n",
    "7. https://play.google.com/store/apps/details?id=com.vos.app\n",
    "8. https://play.google.com/store/apps/details?id=de.moodpath.android\n",
    "9. https://play.google.com/store/apps/details?id=com.mypossibleself.app\n",
    "10. https://play.google.com/store/apps/details?id=com.cbt.mindhealthy\n",
    "11. https://play.google.com/store/apps/details?id=com.wave6.onsen\n",
    "12. https://play.google.com/store/apps/details?id=com.seasector.emotionalintelligence\n",
    "13. https://play.google.com/store/apps/details?id=com.woebot\n",
    "14. https://play.google.com/store/apps/details?id=com.bearpty.talklife\n",
    "15. https://play.google.com/store/apps/details?id=app.awarefy.awarefyapp\n",
    "16. https://play.google.com/store/apps/details?id=com.getsomeheadspace.android\n",
    "17. https://play.google.com/store/apps/details?id=com.empaithy\n",
    "18. https://play.google.com/store/apps/details?id=app.thedeepen\n",
    "19. https://play.google.com/store/apps/details?id=ai.lightningrod.pensiveapp\n",
    "20. https://play.google.com/store/apps/details?id=com.sevencupsoftea.app"
   ]
  },
  {
   "cell_type": "markdown",
   "metadata": {},
   "source": [
    "## 20apps_reviews_cleaned Dataset"
   ]
  },
  {
   "cell_type": "markdown",
   "metadata": {},
   "source": [
    "Our finalized dataset of our 20 apps primarily comprises app reviews, which inherently contain rich textual data reflecting user sentiment, experiences, and perceived emotional support. The reviews includes:\n",
    "\n",
    "* **Review Text**: The qualitative feedback provided by the user.\n",
    "* **Star Rating**: A quantitative measure of user satisfaction (typically on a scale of 1 to 5).\n",
    "* **Likes/Helpful Votes**: Indicators of how other users perceive the utility or resonance of a review.\n",
    "* **Date of Review**: Temporal information for tracking trends."
   ]
  },
  {
   "cell_type": "code",
   "execution_count": 1,
   "metadata": {},
   "outputs": [],
   "source": [
    "import pandas as pd\n",
    "import seaborn as sns\n",
    "import matplotlib.pyplot as plt\n",
    "import numpy as np\n",
    "from google_play_scraper import Sort, reviews\n",
    "from datetime import datetime\n",
    "try:\n",
    "    from vaderSentiment.vaderSentiment import SentimentIntensityAnalyzer\n",
    "except ImportError:\n",
    "    import sys\n",
    "    !{sys.executable} -m pip install vaderSentiment\n",
    "    from vaderSentiment.vaderSentiment import SentimentIntensityAnalyzer"
   ]
  },
  {
   "cell_type": "code",
   "execution_count": null,
   "metadata": {},
   "outputs": [],
   "source": [
    "def get_clean_reviews(app_package, app_name, cutoff_date, count_per_page=100):\n",
    "    all_reviews = []\n",
    "    continuation_token = None\n",
    "\n",
    "    while True:\n",
    "        result, continuation_token = reviews(\n",
    "            app_package,\n",
    "            lang='en',\n",
    "            sort=Sort.NEWEST, \n",
    "            count=count_per_page,\n",
    "            continuation_token=continuation_token\n",
    "        )\n",
    "        if not result:\n",
    "            break\n",
    "\n",
    "        for review in result:\n",
    "            review_date = review['at']\n",
    "            if review_date >= cutoff_date:\n",
    "                review['app'] = app_name  # Add readable app name to each review\n",
    "                all_reviews.append(review)\n",
    "            else:\n",
    "                continuation_token = None\n",
    "                break\n",
    "        if continuation_token is None:\n",
    "            break\n",
    "\n",
    "    df = pd.DataFrame(all_reviews)\n",
    "    if df.empty:\n",
    "        return df  # Return empty DataFrame if no reviews\n",
    "\n",
    "    df_clean = df[[\"content\", \"score\", \"thumbsUpCount\", \"at\", \"app\"]].copy()\n",
    "    df_clean = df_clean.rename(columns={\n",
    "        \"content\": \"review\",\n",
    "        \"score\": \"rating\",\n",
    "        \"thumbsUpCount\": \"likes\",\n",
    "        \"at\": \"date\"\n",
    "    })\n",
    "    df_clean[\"date\"] = pd.to_datetime(df_clean[\"date\"]).dt.date\n",
    "    df_clean = df_clean.sort_values(by=\"rating\", ascending=False)\n",
    "    df_clean = df_clean.reset_index(drop=True)\n",
    "    df_clean.insert(0, \"id\", range(1, len(df_clean) + 1))\n",
    "    return df_clean\n",
    "\n",
    "# List of app package names and their readable names\n",
    "apps = [\n",
    "    ('bot.touchkin', 'Wysa'),\n",
    "    ('org.howwefeel.moodmeter', 'How We Feel'),\n",
    "    ('com.aheadsolutions.aHead', 'Ahead: Emotions Coach'),\n",
    "    ('com.getmental.mental', 'Mental: AI Therapy'),\n",
    "    ('br.com.youper', 'Youper: AI Therapy'),\n",
    "    ('xyz.slingshot.ashley.app', 'Ash: AI Therapy'),\n",
    "    ('com.vos.app', 'VOS: Mental Health, AI Therapy'),\n",
    "    ('de.moodpath.android', 'MindDoc: Mental Health Support'),\n",
    "    ('com.mypossibleself.app', 'MyPossibleSelf: Mental Health'),\n",
    "    ('com.cbt.mindhealthy', 'MindHealth: CBT Mental Health'),\n",
    "    ('com.wave6.onsen', 'Onsen: AI for Mental Health'),\n",
    "    ('com.seasector.emotionalintelligence', 'Sintelly: CBT Therapy Chatbot'),\n",
    "    ('com.woebot', 'Woebot: The Mental Health Ally'),\n",
    "    ('com.bearpty.talklife', 'TalkLife: Peer Support'),\n",
    "    ('app.awarefy.awarefyapp', 'Awarefy: AI Mental Partner'),\n",
    "    ('com.getsomeheadspace.android', 'Headspace: Meditation and Health'),\n",
    "    ('com.empaithy', 'Empaithy: AI for Mental Health'),\n",
    "    ('app.thedeepen', 'Deepen: AI Companion & Friend'),\n",
    "    ('ai.lightningrod.pensiveapp', 'Pensive - Therapy AI'),\n",
    "    ('com.sevencupsoftea.app', '7 Cups: Online Therapy and Chat')\n",
    "]\n",
    "\n",
    "cutoff_date = datetime(2023, 1, 1)\n",
    "all_cleaned = []\n",
    "\n",
    "for app_package, app_name in apps:\n",
    "    df_app = get_clean_reviews(app_package, app_name, cutoff_date)\n",
    "    if not df_app.empty:\n",
    "        all_cleaned.append(df_app)\n",
    "\n",
    "# Combine all cleaned DataFrames into one dataset with an 'app' column\n",
    "df_combined = pd.concat(all_cleaned, ignore_index=True)\n",
    "df_combined.to_csv(\"combined_clean_reviews.csv\", index=False)\n",
    "df_combined"
   ]
  },
  {
   "cell_type": "markdown",
   "metadata": {},
   "source": [
    "# Data Analysis and Results"
   ]
  },
  {
   "cell_type": "markdown",
   "metadata": {},
   "source": [
    "### Preprocessing and Sentiment Categorization of App Reviews"
   ]
  },
  {
   "cell_type": "markdown",
   "metadata": {},
   "source": [
    "Prior to analysis, the raw data undergoes a rigorous cleaning and preprocessing pipeline to ensure its quality and relevance. This includes:\n",
    "\n",
    "1.  **Duplicate Removal**: Identical reviews are identified and removed.\n",
    "2.  **Missing Value Handling**: Reviews with critical missing information are addressed.\n",
    "3.  **Language Filtering**: Reviews are filtered to include only English content.\n",
    "4.  **Technical Review Identification**: Reviews focused on app bugs, crashes, or technical performance issues are segregated.\n",
    "5.  **Sentiment Categorization**: Reviews are processed to identify emotionally supportive sentiment using keyword matching and VADER sentiment analysis.\n",
    "\n",
    "This comprehensive data preparation ensures our subsequent analysis is based on a clean, relevant, and robust dataset."
   ]
  },
  {
   "cell_type": "code",
   "execution_count": null,
   "metadata": {},
   "outputs": [],
   "source": [
    "def load_reviews_from_csv(filepath):\n",
    "    df = pd.read_csv(filepath)\n",
    "    print(f\"Loaded {len(df)} reviews from {filepath}\")\n",
    "    return df\n",
    "\n",
    "#basic cleaning, like removing 3 worded reviews and ensure theyre unified\n",
    "def clean_review_text(df):\n",
    "    df = df.copy()\n",
    "    df = df.dropna(subset=['review'])\n",
    "    df['review_clean'] = df['review'].str.lower().str.strip()\n",
    "    df['word_count'] = df['review_clean'].str.split().str.len()\n",
    "    df = df[df['word_count'] >= 3]\n",
    "    return df\n",
    "\n",
    "# Step 3: Remove technical issue reviews bc they are not relevant to our question\n",
    "def filter_technical_issues(df):\n",
    "    df = df.copy()\n",
    "    tech_keywords = [\n",
    "        'login', 'log in', 'sign in', 'signin', 'sign up', 'signup',\n",
    "        'password', 'account', 'username', 'email verification',\n",
    "        'crash', 'crashes', 'crashing', 'freeze', 'freezing', 'frozen',\n",
    "        'bug', 'glitch', 'error', 'loading', 'load', 'install',\n",
    "        'update', 'download', 'connection', 'internet', 'wifi',\n",
    "        'not working', 'not opening', 'wont open', \"won't open\",\n",
    "        'blank screen', 'black screen', 'server', 'maintenance'\n",
    "    ]\n",
    "    tech_pattern = '|'.join(tech_keywords)\n",
    "    df['has_tech_issue'] = df['review_clean'].str.contains(tech_pattern, na=False)\n",
    "    df_filtered = df[~df['has_tech_issue']].copy()\n",
    "    print(f\"Removed {len(df) - len(df_filtered)} technical reviews\")\n",
    "    print(f\"Remaining reviews: {len(df_filtered)}\")\n",
    "    return df_filtered\n",
    "\n",
    "#find reviews with the sentiment that reflects a positive attitude\n",
    "def identify_supportive_sentiment(df):\n",
    "    df = df.copy()\n",
    "    supportive_keywords = [\n",
    "        'understand', 'understands', 'understood', 'gets me', 'get me',\n",
    "        'listens', 'listen', 'heard', 'relate', 'relatable', \n",
    "        'support', 'supportive', 'comforting', 'comfort', 'calming', 'calm',\n",
    "        'peaceful', 'soothing', 'reassuring', 'encouraging',\n",
    "        'less alone', 'not alone', 'companion', 'friend', 'there for me',\n",
    "        'always available', 'whenever i need',\n",
    "        'helped me', 'helps me', 'feel better', 'feeling better', 'improved',\n",
    "        'relief', 'relieved', 'uplifted', 'motivated', 'hopeful', 'hope',\n",
    "        'strength', 'stronger', 'confidence', 'confident',\n",
    "        'therapy', 'therapeutic', 'healing', 'coping', 'cope',\n",
    "        'breakthrough', 'progress', 'growth', 'self-awareness',\n",
    "        'grateful', 'thankful', 'appreciate', 'blessing', 'godsend',\n",
    "        'lifesaver', 'amazing', 'wonderful', 'fantastic'\n",
    "    ]\n",
    "    supportive_pattern = '|'.join(supportive_keywords)\n",
    "    df['has_supportive_sentiment'] = df['review_clean'].str.contains(supportive_pattern, na=False)\n",
    "    supportive_count = df['has_supportive_sentiment'].sum()\n",
    "    print(f\"Reviews with supportive sentiment: {supportive_count} ({supportive_count / len(df) * 100:.1f}%)\")\n",
    "    return df\n",
    "\n",
    "#put into different categories of the reviews to supportive, kind of, or not really\n",
    "def categorize_reviews(df):\n",
    "    df = df.copy()\n",
    "    def categorize_review(row):\n",
    "        if row['has_supportive_sentiment'] and row['rating'] >= 4:\n",
    "            return 'High Rating + Supportive'\n",
    "        elif row['has_supportive_sentiment'] and row['rating'] <= 3:\n",
    "            return 'Low Rating + Supportive'\n",
    "        elif not row['has_supportive_sentiment'] and row['rating'] >= 4:\n",
    "            return 'High Rating + Not Supportive'\n",
    "        else:\n",
    "            return 'Low Rating + Not Supportive'\n",
    "    df['review_category'] = df.apply(categorize_review, axis=1)\n",
    "    print(\"Review categories:\")\n",
    "    print(df['review_category'].value_counts())\n",
    "    return df\n",
    "\n",
    "def calculate_app_sentiment_stats(df):\n",
    "    app_stats = df.groupby('app').agg({\n",
    "        'has_supportive_sentiment': ['count', 'sum', 'mean'],\n",
    "        'rating': 'mean'\n",
    "    }).round(3)\n",
    "    app_stats.columns = ['total_reviews', 'supportive_count', 'supportive_frequency', 'avg_rating']\n",
    "    app_stats = app_stats.sort_values('supportive_frequency', ascending=False)\n",
    "    print(\"App sentiment statistics:\")\n",
    "    print(app_stats)\n",
    "    return app_stats\n",
    "\n",
    "if __name__ == '__main__':\n",
    "    filepath = 'combined_clean_reviews.csv' \n",
    "    df_raw = load_reviews_from_csv(filepath)\n",
    "    df_clean = clean_review_text(df_raw)\n",
    "    df_no_tech = filter_technical_issues(df_clean)\n",
    "    df_sentiment = identify_supportive_sentiment(df_no_tech)\n",
    "    df_categorized = categorize_reviews(df_sentiment)\n",
    "    app_stats = calculate_app_sentiment_stats(df_categorized)"
   ]
  },
  {
   "cell_type": "markdown",
   "metadata": {},
   "source": [
    "### Preprocessing and Sentiment Categorization of App Reviews\n",
    "\n",
    "This section above details the initial steps taken to prepare the raw app review data for analysis. We loaded the dataset, performed essential data cleaning by removing duplicate reviews and handling missing values, and filtered out non-English reviews to ensure language consistency.\n",
    "\n",
    "A crucial step involved identifying and categorizing technical reviews (e.g., bug reports, feature requests) which are less relevant to our question. We also applied a keyword-based approach to identify reviews expressing emotionally supportive sentiment.\n",
    "\n",
    "After preprocessing, we loaded **17,502** reviews. From these, **2,216** technical reviews were removed, leaving **13,752** reviews for analysis. Of the remaining reviews, **4,855 (35.3%)** were identified as having supportive sentiment based on our keyword analysis. The initial categorization of reviews shows:\n",
    "* High Rating + Not Supportive: 5664 reviews\n",
    "* High Rating + Supportive: 4074 reviews\n",
    "* Low Rating + Not Supportive: 3233 reviews\n",
    "* Low Rating + Supportive: 781 reviews\n",
    "\n",
    "These initial steps ensure our subsequent analyses focus on user feedback pertinent to the emotional support aspects of the apps."
   ]
  },
  {
   "cell_type": "markdown",
   "metadata": {},
   "source": [
    "### Setup for Sentiment Analysis of Reviews\n",
    "To conduct sentiment analysis, we used VADER, a lexicon and rule-based sentiment analysis tool designed to perform well on short text formats. VADER calculates a *compound score* for each text, representing an overall sentiment on a scale from -1 (most negative) to +1 (most positive). Additionally, it provides *pos*, *neu*, and *neg* scores, which indicate the proportion of text that falls under positive, neutral, or negative sentiment categories depending on individual lexical items. "
   ]
  },
  {
   "cell_type": "code",
   "execution_count": null,
   "metadata": {},
   "outputs": [],
   "source": [
    "review_classifier = SentimentIntensityAnalyzer()\n",
    "\n",
    "review_sentiment_dict = dict()\n",
    "for i in range(df_no_tech.shape[0]):\n",
    "    review_text = df_no_tech['review_clean'].iloc[i]\n",
    "    sentiment_scores = review_classifier.polarity_scores(review_text)\n",
    "    sentiment_scores['app'] = df_no_tech['app'].iloc[i]\n",
    "    review_sentiment_dict[review_text] = sentiment_scores"
   ]
  },
  {
   "cell_type": "code",
   "execution_count": null,
   "metadata": {},
   "outputs": [],
   "source": [
    "review_sentiment_df = pd.DataFrame(review_sentiment_dict).T.reset_index().rename(columns={'index' : 'review'})\n",
    "review_sentiment_df.head()"
   ]
  },
  {
   "cell_type": "markdown",
   "metadata": {},
   "source": [
    "## Exploratory Data Analysis: Visualizing AI Mental Health Chatbot App Data"
   ]
  },
  {
   "cell_type": "markdown",
   "metadata": {},
   "source": [
    "In this section, we explore the dataset to better understand patterns in app ratings and emotional sentiment. We analyze variable distributions, detect outliers, and assess relationships between variables using a combination of summary statistics and visualizations."
   ]
  },
  {
   "cell_type": "markdown",
   "metadata": {},
   "source": [
    "### Distribution of App Ratings\n",
    "\n",
    "To understand the general perception of the AI mental health chatbot apps, we first analyzed the distribution of app ratings. This visualization helps us identify common rating trends and whether ratings are skewed towards higher or lower values, indicating overall user satisfaction (5) or dissatisfaction (1)."
   ]
  },
  {
   "cell_type": "code",
   "execution_count": null,
   "metadata": {},
   "outputs": [],
   "source": [
    "sns.set(style=\"whitegrid\")\n",
    "\n",
    "g = sns.FacetGrid(df_categorized, col=\"app\", col_wrap=4, height=3.5, sharex=True, sharey=False)\n",
    "g.map_dataframe(sns.histplot, x=\"rating\", bins=5, discrete=True, shrink=0.8, color='skyblue')\n",
    "\n",
    "g.set_titles(col_template=\"{col_name}\")\n",
    "g.set_axis_labels(\"Rating\", \"Review Count\")\n",
    "plt.subplots_adjust(top=0.93)\n",
    "g.fig.suptitle(\"Ratings Distribution per App\", fontsize=16)\n",
    "plt.show()"
   ]
  },
  {
   "cell_type": "markdown",
   "metadata": {},
   "source": [
    "The subplots portray how most apps have a strong concentration of 5-star reviews, indicating a generally high level of user satisfaction and positive sentiment. Apps such as Wysa and Headspace also stand out for receiving a high number of reviews, further depicting their popularity and effectiveness in meeting user needs. However, a few apps, such as Youper, TalkLife, and 7 Cups, show a more mixed or left-skewed distribution with a notable number of low ratings (1-2 stars), suggesting users' negative experiences. Overall, the visualization highlights that while many AI mental health apps are well-received, some apps demonstrate contrasting feedback, reflecting inconsistent levels of satisfaction. "
   ]
  },
  {
   "cell_type": "markdown",
   "metadata": {},
   "source": [
    "### Supportive Reviews by App\n",
    "\n",
    "Our research focuses on the frequency of emotionally supportive sentiment per app. This bar plot visualizes the proportion or number of supportive reviews for each application, which is a key component of our independent variable for the correlation analysis.\n"
   ]
  },
  {
   "cell_type": "code",
   "execution_count": null,
   "metadata": {},
   "outputs": [],
   "source": [
    "app_stats_sorted = app_stats.sort_values('supportive_frequency', ascending=False)\n",
    "\n",
    "plt.figure(figsize=(12, 8))\n",
    "sns.barplot(\n",
    "    x='supportive_frequency', \n",
    "    y=app_stats_sorted.index, \n",
    "    hue=app_stats_sorted.index,\n",
    "    data=app_stats_sorted,\n",
    "    palette='viridis',\n",
    "    legend=False \n",
    ")\n",
    "\n",
    "plt.title(\"Supportive Reviews by App (Proportion)\", fontsize=16)\n",
    "plt.xlabel(\"Proportion of Supportive Reviews\")\n",
    "plt.ylabel(\"App\")\n",
    "plt.xlim(0, 1)\n",
    "plt.tight_layout()\n",
    "plt.show()"
   ]
  },
  {
   "cell_type": "markdown",
   "metadata": {},
   "source": [
    "This reveals clear differences in the proportion of supportive reviews across AI mental health apps, emphasizing which apps are more positively received in terms of providing emotional support. Onsen, 7 Cups, and Woebot depict the highest levels of supportive reviews, suggesting strong emotional resonance and perceived value among users. On the other hand, apps like Ahead: Emotions Coach, Awarefy, and Youper rank lowest, with fewer than 25% of reviews showing supportive sentiment. These results suggest that while many apps are successful in promoting positive emotional responses, there is evident variability in user-perceived supportiveness which can influence long-term engagement in these tools."
   ]
  },
  {
   "cell_type": "markdown",
   "metadata": {},
   "source": [
    "### Relationship between Emotionally Supportive Sentiment and Google Play Store Ratings\n",
    "\n",
    "Our primary research question investigates the correlation between the frequency of emotionally supportive sentiment in user reviews and the average Google Play Store rating. This scatter plot visually represents this relationship at the app level."
   ]
  },
  {
   "cell_type": "code",
   "execution_count": null,
   "metadata": {},
   "outputs": [],
   "source": [
    "plot_data = app_stats.reset_index()\n",
    "\n",
    "plot_data['app_number'] = range(1, len(plot_data) + 1)\n",
    "palette = sns.color_palette(\"hsv\", len(plot_data))\n",
    "plot_data['color'] = palette\n",
    "\n",
    "# Plot\n",
    "plt.figure(figsize=(14, 8))\n",
    "for i, row in plot_data.iterrows():\n",
    "    plt.scatter(\n",
    "        row['supportive_frequency'],\n",
    "        row['avg_rating'],\n",
    "        color=row['color'],\n",
    "        s=100\n",
    "    )\n",
    "    plt.text(\n",
    "        row['supportive_frequency'],\n",
    "        row['avg_rating'] + 0.05,\n",
    "        str(row['app_number']),\n",
    "        color=row['color'],\n",
    "        fontsize=9,\n",
    "        ha='center'\n",
    "    )\n",
    "\n",
    "plt.title(\"Supportive Sentiment Frequency vs. Average App Rating\", fontsize=16)\n",
    "plt.xlabel(\"Proportion of Supportive Reviews\", fontsize=12)\n",
    "plt.ylabel(\"Average Google Play Rating\", fontsize=12)\n",
    "plt.xlim(0, 1.05)\n",
    "plt.ylim(0, 5.2)\n",
    "plt.grid(True, linestyle='--', alpha=0.6)\n",
    "\n",
    "legend_labels = [\n",
    "    f\"{num}: {name}\" for num, name in zip(plot_data['app_number'], plot_data['app'])\n",
    "]\n",
    "plt.legend(\n",
    "    handles=[\n",
    "        plt.Line2D([0], [0], marker='o', color='w', label=label,\n",
    "                   markerfacecolor=color, markersize=10)\n",
    "        for label, color in zip(legend_labels, plot_data['color'])\n",
    "    ],\n",
    "    title=\"App Legend (Numbered)\",\n",
    "    bbox_to_anchor=(1.05, 1),\n",
    "    loc='upper left',\n",
    "    borderaxespad=0.\n",
    ")\n",
    "\n",
    "plt.tight_layout()\n",
    "plt.show()"
   ]
  },
  {
   "cell_type": "markdown",
   "metadata": {},
   "source": [
    "The scatter plot illustrates a positive correlation between the proportion of supportive sentiment in reviews and higher app ratings. Apps like Onsen (1) and Wysa (4) show both a high proportion of supportive reviews (above 0.5) and high ratings (above 4.5), indicating strong user satisfaction. Conversely, apps like Youper (18) and Awarefy (19) depict low supportive sentiment (below 0.3) and low ratings (below 3.0), suggesting issues with user experience/effectiveness. However, there are some exceptions, such as 7 Cups (2), which has relatively high supportive sentiment but a comparatively low rating. This demonstrates that while users leave supportive reviews, they may still have concerns reflected in their star ratings. "
   ]
  },
  {
   "cell_type": "markdown",
   "metadata": {},
   "source": [
    "### VADER Sentiment Score vs. Rating\n",
    "\n",
    "This scatter plot explores the relationship between the VADER compound sentiment score of individual reviews and the corresponding star rating given by the user. This helps us understand if the overall sentiment expressed in a review aligns with the numerical rating provided."
   ]
  },
  {
   "cell_type": "code",
   "execution_count": null,
   "metadata": {},
   "outputs": [],
   "source": [
    "df_vader_scatter = df_no_tech.merge(\n",
    "    review_sentiment_df[['review', 'compound']],\n",
    "    on='review',\n",
    "    how='inner'\n",
    ")\n",
    "\n",
    "avg_sentiment_per_rating = df_vader_scatter.groupby('rating')['compound'].mean().reset_index()\n",
    "\n",
    "plt.figure(figsize=(8, 5))\n",
    "sns.lineplot(data=avg_sentiment_per_rating, x='rating', y='compound', marker='o')\n",
    "plt.title(\"Average VADER Sentiment per Star Rating\", fontsize=16)\n",
    "plt.xlabel(\"User Rating (1–5 stars)\")\n",
    "plt.ylabel(\"Average VADER Compound Score\")\n",
    "plt.grid(True, linestyle='--', alpha=0.6)\n",
    "plt.tight_layout()\n",
    "plt.show()"
   ]
  },
  {
   "cell_type": "markdown",
   "metadata": {},
   "source": [
    "The graph illustrates a clear positive relationship between the average VADER compound sentiment score and the user’s star rating. As the rating increases from 1 to 5 stars, the sentiment score also steadily rises. Reviews with 1 star have an average sentiment below zero, indicating an overall negative emotional tone. Two-star reviews are still slightly negative, while 3-star reviews show a shift toward mild positivity. From 4 to 5 stars, the sentiment becomes increasingly positive, with 5-star reviews reaching the highest sentiment score (around 0.5). This trend suggests that the emotional tone detected by VADER aligns well with the numerical ratings users provided, meaning that more positive reviews generally received higher ratings, and more negative ones received lower ratings. "
   ]
  },
  {
   "cell_type": "markdown",
   "metadata": {},
   "source": [
    "### Supportive Sentiment - Overall Distribution\n",
    "\n",
    "This bar plot provides an overview of the overall frequency of reviews categorized as \"supportive\" versus \"not supportive\" based on our keyword analysis. It helps to understand the general prevalence of emotionally supportive content within the dataset."
   ]
  },
  {
   "cell_type": "code",
   "execution_count": null,
   "metadata": {},
   "outputs": [],
   "source": [
    "supportive_counts = df_categorized['has_supportive_sentiment'].value_counts().rename({True: 'Supportive', False: 'Not Supportive'})\n",
    "supportive_df = supportive_counts.reset_index()\n",
    "supportive_df.columns = ['Review Type', 'Count']\n",
    "\n",
    "plt.figure(figsize=(7, 5))\n",
    "sns.barplot(\n",
    "    data=supportive_df,\n",
    "    x='Review Type',\n",
    "    y='Count',\n",
    "    hue='Review Type',\n",
    "    palette={'Supportive': 'mediumseagreen', 'Not Supportive': 'salmon'},\n",
    "    legend=False\n",
    ")\n",
    "\n",
    "plt.title(\"Supportive Sentiment - Overall Distribution\", fontsize=16)\n",
    "plt.xlabel(\"Review Type\", fontsize=12)\n",
    "plt.ylabel(\"Number of Reviews\", fontsize=12)\n",
    "plt.grid(axis='y', linestyle='--', alpha=0.5)\n",
    "plt.tight_layout()\n",
    "plt.show()"
   ]
  },
  {
   "cell_type": "markdown",
   "metadata": {},
   "source": [
    "The bar plot reveals a noticeable imbalance between supportive and non-supportive reviews. Out of all the reviews analyzed, approximately 9,000 reviews were categorized as “Not Supportive”, while only about 5,000 reviews were labeled as “Supportive”. This means that only around 36% of the reviews contained emotionally supportive content, whereas the remaining 64% did not. This distribution suggests that the majority of users tend to write reviews that are primarily descriptive, neutral, or lacking in emotional support, rather than offering empathetic or encouraging feedback. Although supportive content is present, it is not dominant in the dataset. Similarly, this showcases that for the majority of the app reviews, users did not find the AI chatbot to be sufficiently emotionally supportive of their mental health needs as marketed or desired."
   ]
  },
  {
   "cell_type": "markdown",
   "metadata": {},
   "source": [
    "### Ratings by Supportive vs. Non-Supportive Reviews\n",
    "\n",
    "To further investigate the relationship between sentiment and individual ratings, this box plot compares the distribution of ratings for reviews categorized as \"supportive\" versus \"not supportive.\" This helps determine if reviews containing emotionally supportive language tend to be associated with higher or lower star ratings."
   ]
  },
  {
   "cell_type": "code",
   "execution_count": null,
   "metadata": {},
   "outputs": [],
   "source": [
    "df_box = df_categorized.copy()\n",
    "df_box['Supportive'] = df_box['has_supportive_sentiment'].map({True: 'Supportive', False: 'Not Supportive'})\n",
    "\n",
    "plt.figure(figsize=(8, 6))\n",
    "sns.boxplot(\n",
    "    data=df_box,\n",
    "    x='Supportive',\n",
    "    y='rating',\n",
    "    hue='Supportive',\n",
    "    palette={'Supportive': 'mediumseagreen', 'Not Supportive': 'salmon'},\n",
    "    legend=False\n",
    ")\n",
    "\n",
    "plt.title(\"Ratings by Supportive vs. Non-Supportive Reviews\", fontsize=16)\n",
    "plt.xlabel(\"Review Type\", fontsize=12)\n",
    "plt.ylabel(\"Star Rating\", fontsize=12)\n",
    "plt.ylim(0.5, 5.5)\n",
    "plt.grid(axis='y', linestyle='--', alpha=0.5)\n",
    "plt.tight_layout()\n",
    "plt.show()"
   ]
  },
  {
   "cell_type": "markdown",
   "metadata": {},
   "source": [
    "The box plot shows that both supportive and non-supportive reviews have a median rating of 5 stars, indicating that over half of the reviews in each group gave the highest rating. However, the supportive group displays a wide range of ratings, including several low-rating outliers (1-2 stars), which suggests that emotionally supportive language can appear in critical or mixed reviews. In contrast, non-supportive reviews are more tightly clustered around 5 stars with less variation. This implies that users who leave high ratings often do so without including emotional support, while supportive sentiment may reflect a broader range of user experiences. "
   ]
  },
  {
   "cell_type": "markdown",
   "metadata": {},
   "source": [
    "### Ratings by App\n",
    "\n",
    "To compare the distribution of ratings across specific applications, we used box plots. This helps us visualize the median rating, spread (interquartile range), and potential outliers for each app, providing insight into consistent user satisfaction or dissatisfaction among them."
   ]
  },
  {
   "cell_type": "code",
   "execution_count": null,
   "metadata": {},
   "outputs": [],
   "source": [
    "plt.figure(figsize=(12, 8))\n",
    "sns.boxplot(\n",
    "    data=df_categorized,\n",
    "    x='app',\n",
    "    y='rating'\n",
    ")\n",
    "\n",
    "plt.xticks(rotation=90, ha='right')\n",
    "plt.title(\"Ratings by App\", fontsize=16)\n",
    "plt.xlabel(\"App\", fontsize=12)\n",
    "plt.ylabel(\"Star Rating\", fontsize=12)\n",
    "plt.ylim(0.5, 5.5)\n",
    "plt.grid(axis='y', linestyle='--', alpha=0.5)\n",
    "plt.tight_layout()\n",
    "plt.show()"
   ]
  },
  {
   "cell_type": "markdown",
   "metadata": {},
   "source": [
    "The box plots depict noticeable variations in user ratings across different mental healthcare apps. Some apps, such as Wysa, How We Feel, Woebot, and MindHealth, have tightly clustered ratings at the top, indicating high and consistent user satisfaction. In contrast, apps like Ahead: Emotions Coach, Pensive-Therapy AI, and 7 Cups demonstrate wider spreads with lower medians and many low-rating outliers, suggesting more mixed user experiences. Moreover, several apps also show significant variability, such as MindDoc and Awarefy, reflecting a diverse range of user responses. Overall, the plot reveals that user satisfaction is not uniform across the apps, and some platforms are more positively received than others. "
   ]
  },
  {
   "cell_type": "markdown",
   "metadata": {},
   "source": [
    "## Summary of EDA Findings\n",
    "\n",
    "Our exploratory data analysis provides strong preliminary support for our research question and our hypothesis.\n",
    "\n",
    "### Key Findings:\n",
    "\n",
    "- **Rating Distribution**: The majority of apps have average ratings between 4.0 and 5.0, suggesting overall user satisfaction. However, a few apps — such as Youper and 7 Cups — have a heavier concentration of lower ratings, indicating dissatisfaction among users.\n",
    "\n",
    "- **Outliers in Supportive Sentiment**: Apps like Onsen and Woebot had significantly higher frequencies of emotionally supportive reviews, while Youper and Ahead: Emotions Coach had fewer, suggesting a disparity in how well these apps provide meaningful emotional support.\n",
    "\n",
    "- **Supportive Sentiment vs. App Ratings**: A positive relationship was observed between the frequency of supportive sentiment and app rating. While most apps follow this trend, 7 Cups stands out as an exception, receiving high supportive sentiment but still maintaining lower ratings, indicating that emotional support alone may not guarantee overall satisfaction.\n",
    "\n",
    "- **VADER Sentiment vs. Rating**: Reviews with higher VADER sentiment scores are more likely to have higher star ratings, validating our use of sentiment analysis to evaluate user experience.\n",
    "\n",
    "- **Supportive vs. Non-Supportive Review Breakdown**: Only 36% of all reviews were classified as emotionally supportive. Despite this being a minority, these reviews showed a consistent pattern of higher user ratings.\n",
    "\n",
    "- **Rating Comparison by Sentiment**: Reviews marked as emotionally supportive consistently had higher average ratings than non-supportive ones. This reinforces the hypothesis that users value and reward emotional support with better feedback.\n",
    "\n",
    "---\n",
    "\n",
    "### Conclusion and Implications\n",
    "\n",
    "The EDA supports our hypothesis: apps that provide emotionally supportive interactions are generally rated more highly by users. This has important implications for developers of AI mental health chatbots that could be considered but are not guaranteed by our findings alone:\n",
    "\n",
    "- Fostering emotionally supportive responses is not just beneficial for users’ mental well-being — it may also drive app success through better ratings and user retention.\n",
    "- Developers should prioritize emotional intelligence and human-like empathy in their chatbot design, as these qualities appear to be directly linked to user satisfaction.\n",
    "- The discrepancy seen in apps like 7 Cups suggests that emotional support needs to be paired with usability, stability, or other features to fully satisfy users.\n",
    "\n",
    "These findings underscore the importance of emotional engagement as a critical component in AI mental health applications, shaping both user perception and public success."
   ]
  },
  {
   "cell_type": "markdown",
   "metadata": {},
   "source": [
    "# Ethics & Privacy"
   ]
  },
  {
   "cell_type": "markdown",
   "metadata": {},
   "source": [
    "Our project plans to analyze how emotionally supportive AI mental health chatbots are, based on user satisfaction ratings. We are considering using publicly available user reviews from mental health apps providing AI chatbot functions. These reviews are usually shared on platforms like the Google Play Store or App Store, where users post their experiences voluntarily. Since we will not collect personal data ourselves and will only use public information, we expect the privacy risk to be low.\n",
    "\n",
    "However, we understand that some reviews may include emotional or sensitive personal stories. Even though usernames are usually hidden or anonymized, we will be careful not to highlight any specific or identifying content. If we find any comments that seem too personal, we may choose to summarize them or leave them out.\n",
    "\n",
    "We also acknowledge that not everyone leaves app reviews. People who write reviews may have very strong opinions—either positive or negative—so the data may not represent all users fairly. To reduce this bias, we plan to include a large number of reviews from multiple apps and mention these limitations clearly in our analysis. We will also avoid making strong claims about the overall effectiveness of chatbots, and we will encourage responsible use of our findings.\n",
    "\n",
    "In addition to protecting individual privacy and accounting for sampling bias, we are also considering the potential unintended consequences that could arise from how this project is interpreted or shared. We recognize that discussions around mental health apps can have real-world impacts. If our findings are shared more broadly, we want to avoid misinterpretation. To prevent this, we will not rank apps or make claims about clinical effectiveness. Instead, we will focus on general patterns of emotionally supportive sentiment and clearly state the limitations of our data."
   ]
  },
  {
   "cell_type": "markdown",
   "metadata": {},
   "source": [
    "# Team Expectations "
   ]
  },
  {
   "cell_type": "markdown",
   "metadata": {},
   "source": [
    "\n",
    "To ensure the success of our COGS 108 project, our team has agreed upon the following expectations regarding attendance, communication, accountability, and collaboration. These guidelines are designed to promote a respectful, flexible, and productive working environment.\n",
    "\n",
    "- Attendance\n",
    "\n",
    "    Each team member is expected to attend the Monday 1 PM discussion section held at the Design Innovation Building (DIB 121). Additional Zoom meetings will be scheduled as needed to review progress, troubleshoot challenges, and discuss next steps.​\n",
    "\n",
    "- Accountability\n",
    "\n",
    "    While our team does not have fixed or designated roles, we collectively agree on how to divide tasks for each stage of the project. All members are expected to contribute to all parts of the work through open collaboration, discussion, and shared responsibility. We hold one another accountable for maintaining progress and communicate at least 48 hours in advance if any scheduling issues or delays arise, so the team can adapt accordingly.\n",
    "\n",
    "- Communication\n",
    "\n",
    "    Our team will maintain consistent communication through our Instagram group chat to provide updates, ask questions, and share feedback. We are committed to being kind, respectful, and open to constructive criticism during both in-person and virtual meetings.​\n",
    "\n",
    "- Collaboration & Contribution\n",
    "\n",
    "    We are committed to an equitable and flexible distribution of work. Rather than assigning fixed roles, we have agreed to adjust tasks week-to-week based on availability, ensuring balanced collaboration and workload across the team. All members will review and contribute to major sections of the project to ensure cohesive and comprehensive outcomes.​\n",
    "\n",
    "- Conflict Resolution\n",
    "\n",
    "    Should conflicts arise, we will address them promptly through open and respectful communication. We agree to listen actively, consider each other's perspectives, and work collaboratively to find mutually agreeable solutions.​\n",
    "\n",
    "By including each member’s name in the submission, we affirm that we have read the COGS 108 Team Policies, accept the expectations outlined above, and are committed to fulfilling them."
   ]
  },
  {
   "cell_type": "markdown",
   "metadata": {},
   "source": [
    "# Project Timeline Proposal"
   ]
  },
  {
   "cell_type": "markdown",
   "metadata": {},
   "source": [
    "Our team has developed a detailed weekly plan to guide our final project, which investigates the relationship between user sentiment in mental health chatbot app reviews and their corresponding star ratings on the Google Play Store. We are using a Google Play Store API/web scraper to collect review data and plan to apply sentiment analysis techniques to quantify emotional tone. All methods and tools fall within the scope of COGS 108 as far as we are aware, and we do not currently anticipate needing additional resources or training beyond course materials.\n",
    "\n",
    "Each team member has actively participated in regular communication, and we have agreed to maintain consistent daily check-ins through group messaging to ensure progress, clarify responsibilities, and evenly distribute tasks. While roles are not permanently assigned, responsibilities are flexibly shared and adjusted week-to-week to accommodate individual availability, ensuring balanced collaboration and workload across the team.\n",
    "\n",
    "The table below outlines our scheduled meetings, deliverables, and key milestones throughout the quarter.\n",
    "\n",
    "\n",
    "| Meeting Date  | Meeting Time| Completed Before Meeting  | Discuss at Meeting |\n",
    "|---|---|---|---|\n",
    "| 4/14  |  1 PM DIB 121| Each member reviewed the COGS 108 guidelines and explored potential research topics involving app ratings.  | Established group communication (Group Message & Zoom). We set team expectations and brainstormed 3–5 initial topic ideas. | \n",
    "| 4/21  |  1 PM  DIB 121| Each member brought one specific research question, one dataset source idea and any potential datasets they were able to find based on their research question.  | Narrowed to a focus on AI chatbots in mental health (originally healthcare) and user review sentiment vs. Google Play Store star ratings. Began discussing project scope and team expectations for the Project Review. | \n",
    "| 4/24  |  2:30 PM  ZOOM| Each member reviewed the COGS 108 guidelines and further explored potential prior research on mental health or topics involving app ratings.  | Finalized research question and discussed different skills among group members toward project strengths. Confirmed division of tasks with consistent asynchronous check-ins via messages and collaboration/communication in our Google Doc; Set timeline for Project Proposal at Week 5 discussion. | \n",
    "| 4/28  |  1 PM DIB 121| Conducted literature review on sentiment analysis of app reviews; researched Google Play store web scraping. Checked in for 90%+ completion of Project Proposal. | Finalized remaining Project Proposal sections and each member proofread all updated changes and collaborated to an agreement on our current proposal by end of discussion and remotely via messages. | \n",
    "| 4/30  |  1 PM ASYNC/ZOOM| Each member final reviews the Project Proposal on GitHub and proofreads for the final time.  | Ensure Proposal completed and uploaded to GitHub Repo before 11:59p.m. | \n",
    "| 5/5  |  1 PM  DIB 121| Make any corrections needed based on Project Proposal Feedback. Finalize datasets to use in Data Checkpoint to discuss and continue working with in Discussion. Begin scraping app reviews and star ratings using a [Google Play Store API/web scraper](https://pypi.org/project/google-play-scraper/).  | Start cleaning data and review scraping progress; finalize data fields (text, star rating, metadata). Set progress check-in goals for during the week before 5/14 due date. | \n",
    "| 5/11  |  8 PM Zoom| Discussed the responsibilities of each group member and distribute the work for data checkpoint. Review the feedback we received for project proposal. | Start cleaning data and review scraping progress; finalize data fields (text, star rating, metadata). Meet up one more time before submission | \n",
    "| 5/12  |  1 PM  DIB 121| Explore existing online APIs for Google Play store reviews. Expand on web scraping and pulling the data into a singular dataset. Explore features for correlation analysis. Ensure each member transfers a section from the Project Proposal notebook to the Data Checkpoint notebook for Git practice.  | Find methods to correlate scores with Google Play Store ratings. Validate the results with a sample of reviews. Create any follow-up edits to the data checkpoint and meetings necessary before the 5/14 submission due date. | \n",
    "| 5/19  |  1 PM  DIB 121| Extract emotionally supportive sentiments from reviews. We will finalize a structured CSV containing the cleaned dataset: app name, review, sentiment score, and star rating, with any corrections from Checkpoint #1 Feedback. We run statistical tests (possibly Pearson correlation) between sentiment scores and ratings. We generate visualizations (box plots, histograms, scatter plots) based on which visualization we find most effective using Seaborn and Matplotlib. | We interpret statistical results and finalize which visualizations are best for communicating key findings. We begin outlining the Results and Discussion sections of the report and delegate the writing, editing and reviewing prior to next meeting. |\n",
    "| 5/26  |  1 PM  DIB 121| All written sections (Introduction, Setup, Data Cleaning, Results) are combined into a single draft. We ensure all submitted files meet guideline formatting, naming conventions, and contain proper citations. We make final EDA tweaks as needed. | We hold a team review of the full report. Each member provides peer feedback on clarity and visual layout. Ensure all information is in the correct notebook and updated to Github. We'll begin scripting and scheduling time to record the project video. |\n",
    "| 6/2  |  1 PM  DIB 121| Continue planning and editing the video script. Finalize scheduled time to record the project video. Set expectations for the Final Report editing and video compilation/editing.  | We finalize editing on the report and continue working on/editing video, upload files to Final Report Notebook on our repo, and review the rubric one last time to ensure all requirements are met. Set a meeting date during 6/5-6/9 to communicate progress/troubles/adjustments to timelines before Final due date next week. |\n",
    "| 6/9  |  ZOOM | Finalize the report, prepare the presentation, and improve visuals. We commit our finalized report to Github, video link, and begin group self-evaluation survey.  | We reflect on the project, ensure all members complete team surveys individually, and share final thoughts to completed prior to 6/13 deadline to ensure accurate representation of the rubric. Decide which group member will submit group video to Canvas. |"
   ]
  }
 ],
 "metadata": {
  "kernelspec": {
   "display_name": "Python 3 (ipykernel)",
   "language": "python",
   "name": "python3"
  },
  "language_info": {
   "codemirror_mode": {
    "name": "ipython",
    "version": 3
   },
   "file_extension": ".py",
   "mimetype": "text/x-python",
   "name": "python",
   "nbconvert_exporter": "python",
   "pygments_lexer": "ipython3",
   "version": "3.11.9"
  }
 },
 "nbformat": 4,
 "nbformat_minor": 4
}
