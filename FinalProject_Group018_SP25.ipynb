{
 "cells": [
  {
   "cell_type": "markdown",
   "metadata": {},
   "source": [
    "# The Impact of Emotionally Supportive Sentiment in User Reviews on AI Mental Health Chatbot App Ratings\n",
    "\n",
    "# Permissions\n",
    "\n",
    "Place an `X` in the appropriate bracket below to specify if you would like your group's project to be made available to the public. (Note that student names will be included (but PIDs will be scraped from any groups who include their PIDs).\n",
    "\n",
    "* [  ] YES - make available\n",
    "* [  ] NO - keep private\n",
    "\n",
    "# Names\n",
    "\n",
    "- Avalon Andresen\n",
    "- Johnny Nguyen\n",
    "- Karen Li\n",
    "- Parinita Saha\n",
    "- Youna Cho\n",
    "\n",
    "# Abstract\n",
    "\n",
    "Our report investigates the correlation between the frequency of emotionally supportive sentiment in user reviews and the average Google Play Store ratings for AI mental health chatbot applications. The study was motivated by the increasing demand for digital mental health support and the recognition that user reviews provide valuable insights into app effectiveness and user satisfaction. Prior research has highlighted the importance of sentiment analysis in understanding user feedback and its potential link to app ratings in various domains, including health and food delivery services. This research specifically defines emotionally supportive sentiment as expressions in reviews indicating users felt heard, understood, or emotionally uplifted by the app.\n",
    "\n",
    "To explore this relationship, publicly available user review data from the Google Play Store for 20 distinct AI mental health chatbot applications was collected. The data collection focused on reviews from 2023 to the present to ensure relevance to current AI technology and societal views on mental health. Key variables extracted included review text, star ratings, likes, and review dates. The methodology involved web scraping using the Google Play Scraper API and subsequent data cleaning and processing with Python libraries such as pandas, seaborn, and vaderSentiment for sentiment analysis. Reviews shorter than three words and non-English reviews were excluded to enhance the quality of the sentiment analysis.\n",
    "\n",
    "It is hypothesized that a significant positive correlation exists between the frequency of emotionally supportive sentiment in user reviews and higher Google Play Store ratings. While the initial findings are based on a dataset of 17,479 reviews from 20 apps, this represents a comprehensive sample within the scope of this project, despite the limitation of not accounting for apps across multiple app store platforms. The insights gained from this analysis are intended to provide valuable guidance for developers aiming to enhance user satisfaction and improve app performance in the evolving mental health application sector; however, these findings are specific to the study's parameters, recognizing that their generalizability beyond this project's scope is not guaranteed or intended without further validation in broader contexts and diverse user populations."
   ]
  },
  {
   "cell_type": "markdown",
   "metadata": {},
   "source": [
    "# Research Question"
   ]
  },
  {
   "cell_type": "markdown",
   "metadata": {},
   "source": [
    "Across a diverse set of AI mental health chatbot apps, is there a significant positive correlation between the frequency of emotionally supportive sentiment expressed in user reviews as identified through sentiment analysis and the average Google Play Store rating?"
   ]
  },
  {
   "cell_type": "markdown",
   "metadata": {},
   "source": [
    "## Background and Prior Work"
   ]
  },
  {
   "cell_type": "markdown",
   "metadata": {},
   "source": [
    "The growing emphasis on mental well-being, significantly highlighted by the COVID-19 pandemic and the subsequent Demand for remote support, has coincided with the rapid expansion of digital Technologies in the emergence of numerous mental health applications. Recognizing the critical role of mental health and overall wellness, individuals are increasingly seeking accessible and convenient digital support systems. This surge has given rise to a diverse landscape of mental health applications designed to assist users in navigating the complexities of stress, anxiety, depression, and a spectrum of other emotional challenges.\n",
    "\n",
    " As a result, user reviews have become an invaluable source of authentic information, providing a direct window into the real-world experiences of individuals utilizing these digital tools. These first-hand accounts offer rich insights into the aspects of these apps that users find beneficial, the challenges they encounter, and the overall effectiveness of these platforms in supporting their mental well-being. Natural Language Processing (NLP) techniques, especially sentiment analysis, are crucial for deciphering the emotional nuances in these user-generated texts.<a name=\"cite_ref-6\"></a>[<sup>6</sup>](#cite_note-6)\n",
    "\n",
    " While star ratings provide a general indication of user satisfaction, the detailed textual feedback in reviews, when subjected to sentiment analysis, can pinpoint specific features or aspects of an app that elicit positive or negative emotions.<a name=\"cite_ref-7\"></a>[<sup>7</sup>](#cite_note-7) This granular feedback is incredibly valuable for app developers, enabling them to identify areas for improvement, refine existing features, and better cater to the evolving needs of their user base.<a name=\"cite_ref-2\"></a>[<sup>2</sup>](#cite_note-2) This connection underscores the critical importance of fostering positive user experiences, as higher app ratings often translate into increased downloads, greater user trust, and ultimately, the sustained success of the application.\n",
    "\n",
    "This report examines the correlation between emotionally supportive sentiment in user reviews and Google Play Store ratings across a diverse collection of AI mental health chatbot apps. While our initial exploration focused on apps like \"Wysa\", \"Ahead: Emotions Coach\", and \"How We Feel\" as representative examples of the types of AI mental health chatbot apps we are investigating, our expanded analysis now includes a broader set of a total of **20 distinct applications** to provide a more robust understanding of this relationship.\n",
    "\n",
    "- **Wysa: The Empathetic AI Chatbot Companion**\n",
    "\n",
    "    Wysa stands out as a pioneering AI-powered mental health support chatbot, designed to offer 24/7 anonymous emotional support through evidence-based techniques.<a name=\"cite_ref-9\"></a>[<sup>9</sup>](#cite_note-9) \n",
    "\n",
    "- **How We Feel: Empowering Emotional Awareness and Regulation**\n",
    "\n",
    "    How We Feel offers a unique approach to mental well-being by focusing on helping users understand and regulate their emotions through a visually intuitive mood meter.<a name=\"cite_ref-4\"></a>[<sup>4</sup>](#cite_note-4) Developed in conjunction with Yale University's Center for Emotional Intelligence, the app encourages users to identify and track their feelings, learn about their causes, and discover effective regulation strategies.<a name=\"cite_ref-4\"></a>[<sup>4</sup>](#cite_note-4) \n",
    "\n",
    "- **Ahead Emotions Coach: Your Personal Guide to Emotional Intelligence**\n",
    "\n",
    "    Ahead Emotions Coach takes a distinct approach by focusing on improving users' emotional intelligence through short, interactive sessions grounded in behavioral science. Often, it is referred to as the Duolingo for emotional intelligence.<a name=\"cite_ref-1\"></a>[<sup>1</sup>](#cite_note-1) \n",
    "\n",
    "\n",
    "<table style=\"border-collapse: collapse; width: 100%; font-family: Arial, sans-serif; text-align: center; border: 1px solid #ddd; border-radius: 10px; overflow: hidden; max-width: 70%; margin: 30px;\">\n",
    "  <thead>\n",
    "<tr style=\"background-color: rgb(243, 243, 243); color: rgb(77, 74, 74); border: 1px solid #ddd;\">\n",
    "      <th style=\"border: 1px solid #ddd; padding: 8px; text-align: center;\">App Name</th>\n",
    "      <th style=\"border: 1px solid #ddd; padding: 8px; text-align: center;\">Average Google Play Store Rating</th>\n",
    "      <th style=\"border: 1px solid #ddd; padding: 8px; text-align: center;\">Number of Reviews</th>\n",
    "      <th style=\"border: 1px solid #ddd; padding: 8px; text-align: center;\">Downloads</th>\n",
    "    </tr>\n",
    "  </thead>\n",
    "  <tbody>\n",
    "    <tr>\n",
    "      <td style=\"border: 1px solid #ddd; padding: 8px;\">Wysa</td>\n",
    "      <td style=\"border: 1px solid #ddd; padding: 8px;\">4.6</td>\n",
    "      <td style=\"border: 1px solid #ddd; padding: 8px;\">151K</td>\n",
    "      <td style=\"border: 1px solid #ddd; padding: 8px;\">1M+</td>\n",
    "    </tr>\n",
    "    <tr>\n",
    "      <td style=\"border: 1px solid #ddd; padding: 8px;\">How We Feel</td>\n",
    "      <td style=\"border: 1px solid #ddd; padding: 8px;\">4.5</td>\n",
    "      <td style=\"border: 1px solid #ddd; padding: 8px;\">2.87K</td>\n",
    "      <td style=\"border: 1px solid #ddd; padding: 8px;\">100K+</td>\n",
    "    </tr>\n",
    "    <tr>\n",
    "      <td style=\"border: 1px solid #ddd; padding: 8px;\">Ahead: Emotions Coach</td>\n",
    "      <td style=\"border: 1px solid #ddd; padding: 8px;\">4.1</td>\n",
    "      <td style=\"border: 1px solid #ddd; padding: 8px;\">300</td>\n",
    "      <td style=\"border: 1px solid #ddd; padding: 8px;\">10K+</td>\n",
    "    </tr>\n",
    "    <tr>\n",
    "      <td style=\"border: 1px solid #ddd; padding: 8px;\">Mental: AI Therapy</td>\n",
    "      <td style=\"border: 1px solid #ddd; padding: 8px;\">4.7</td>\n",
    "      <td style=\"border: 1px solid #ddd; padding: 8px;\">1.36K</td>\n",
    "      <td style=\"border: 1px solid #ddd; padding: 8px;\">50K+</td>\n",
    "    </tr>\n",
    "    <tr>\n",
    "      <td style=\"border: 1px solid #ddd; padding: 8px;\">Youper: AI Therapy</td>\n",
    "      <td style=\"border: 1px solid #ddd; padding: 8px;\">3.9</td>\n",
    "      <td style=\"border: 1px solid #ddd; padding: 8px;\">49.4K</td>\n",
    "      <td style=\"border: 1px solid #ddd; padding: 8px;\">1M+</td>\n",
    "    </tr>\n",
    "    <tr>\n",
    "      <td style=\"border: 1px solid #ddd; padding: 8px;\">Ash: AI Therapy</td>\n",
    "      <td style=\"border: 1px solid #ddd; padding: 8px;\">4.8</td>\n",
    "      <td style=\"border: 1px solid #ddd; padding: 8px;\">627</td>\n",
    "      <td style=\"border: 1px solid #ddd; padding: 8px;\">10K+</td>\n",
    "    </tr>\n",
    "    <tr>\n",
    "      <td style=\"border: 1px solid #ddd; padding: 8px;\">VOS: Mental Health, AI Therapy</td>\n",
    "      <td style=\"border: 1px solid #ddd; padding: 8px;\">4.4</td>\n",
    "      <td style=\"border: 1px solid #ddd; padding: 8px;\">48.1K</td>\n",
    "      <td style=\"border: 1px solid #ddd; padding: 8px;\">1M+</td>\n",
    "    </tr>\n",
    "    <tr>\n",
    "      <td style=\"border: 1px solid #ddd; padding: 8px;\">MindDoc: Mental Health Support</td>\n",
    "      <td style=\"border: 1px solid #ddd; padding: 8px;\">4.2</td>\n",
    "      <td style=\"border: 1px solid #ddd; padding: 8px;\">39.6K</td>\n",
    "      <td style=\"border: 1px solid #ddd; padding: 8px;\">1M+</td>\n",
    "    </tr>\n",
    "    <tr>\n",
    "      <td style=\"border: 1px solid #ddd; padding: 8px;\">MyPossibleSelf: Mental Health</td>\n",
    "      <td style=\"border: 1px solid #ddd; padding: 8px;\">4.7</td>\n",
    "      <td style=\"border: 1px solid #ddd; padding: 8px;\">5.63</td>\n",
    "      <td style=\"border: 1px solid #ddd; padding: 8px;\">500K+</td>\n",
    "    </tr>\n",
    "    <tr>\n",
    "      <td style=\"border: 1px solid #ddd; padding: 8px;\">MindHealth: CBT Mental Health</td>\n",
    "      <td style=\"border: 1px solid #ddd; padding: 8px;\">4.7</td>\n",
    "      <td style=\"border: 1px solid #ddd; padding: 8px;\">5.17K</td>\n",
    "      <td style=\"border: 1px solid #ddd; padding: 8px;\">100K+</td>\n",
    "    </tr>\n",
    "    <tr>\n",
    "      <td style=\"border: 1px solid #ddd; padding: 8px;\">Onsen: AI for Mental Health</td>\n",
    "      <td style=\"border: 1px solid #ddd; padding: 8px;\">4.7</td>\n",
    "      <td style=\"border: 1px solid #ddd; padding: 8px;\">163</td>\n",
    "      <td style=\"border: 1px solid #ddd; padding: 8px;\">5K+</td>\n",
    "    </tr>\n",
    "      <tr>\n",
    "      <td style=\"border: 1px solid #ddd; padding: 8px;\">Sintelly: CBT Therapy Chatbot</td>\n",
    "      <td style=\"border: 1px solid #ddd; padding: 8px;\">4.4</td>\n",
    "      <td style=\"border: 1px solid #ddd; padding: 8px;\">10.3K</td>\n",
    "      <td style=\"border: 1px solid #ddd; padding: 8px;\">1M+</td>\n",
    "    </tr>\n",
    "      <tr>\n",
    "      <td style=\"border: 1px solid #ddd; padding: 8px;\">Woebot: The Mental Health Ally</td>\n",
    "      <td style=\"border: 1px solid #ddd; padding: 8px;\">3.6</td>\n",
    "      <td style=\"border: 1px solid #ddd; padding: 8px;\">12.5K</td>\n",
    "      <td style=\"border: 1px solid #ddd; padding: 8px;\">500K+</td>\n",
    "    </tr>\n",
    "      <tr>\n",
    "      <td style=\"border: 1px solid #ddd; padding: 8px;\">TalkLife: Peer Support</td>\n",
    "      <td style=\"border: 1px solid #ddd; padding: 8px;\">3.7</td>\n",
    "      <td style=\"border: 1px solid #ddd; padding: 8px;\">37.8K</td>\n",
    "      <td style=\"border: 1px solid #ddd; padding: 8px;\">1M+</td>\n",
    "    </tr>\n",
    "      <tr>\n",
    "      <td style=\"border: 1px solid #ddd; padding: 8px;\">Awarefy: AI Mental Partner</td>\n",
    "      <td style=\"border: 1px solid #ddd; padding: 8px;\">3.8</td>\n",
    "      <td style=\"border: 1px solid #ddd; padding: 8px;\">2.08K</td>\n",
    "      <td style=\"border: 1px solid #ddd; padding: 8px;\">100K+</td>\n",
    "    </tr>\n",
    "      <tr>\n",
    "      <td style=\"border: 1px solid #ddd; padding: 8px;\">Headspace: Meditation and Health</td>\n",
    "      <td style=\"border: 1px solid #ddd; padding: 8px;\">4.4</td>\n",
    "      <td style=\"border: 1px solid #ddd; padding: 8px;\">333K</td>\n",
    "      <td style=\"border: 1px solid #ddd; padding: 8px;\">10M+</td>\n",
    "    </tr>\n",
    "      <tr>\n",
    "      <td style=\"border: 1px solid #ddd; padding: 8px;\">Empaithy: AI for Mental Health</td>\n",
    "      <td style=\"border: 1px solid #ddd; padding: 8px;\">3.6</td>\n",
    "      <td style=\"border: 1px solid #ddd; padding: 8px;\">44</td>\n",
    "      <td style=\"border: 1px solid #ddd; padding: 8px;\">10K+</td>\n",
    "    </tr>\n",
    "      <tr>\n",
    "      <td style=\"border: 1px solid #ddd; padding: 8px;\">Deepen: AI Companion & Friend</td>\n",
    "      <td style=\"border: 1px solid #ddd; padding: 8px;\">4.2</td>\n",
    "      <td style=\"border: 1px solid #ddd; padding: 8px;\">798</td>\n",
    "      <td style=\"border: 1px solid #ddd; padding: 8px;\">10K+</td>\n",
    "    </tr>\n",
    "      <tr>\n",
    "      <td style=\"border: 1px solid #ddd; padding: 8px;\">Pensive - Therapy AI</td>\n",
    "      <td style=\"border: 1px solid #ddd; padding: 8px;\">3.9</td>\n",
    "      <td style=\"border: 1px solid #ddd; padding: 8px;\">72</td>\n",
    "      <td style=\"border: 1px solid #ddd; padding: 8px;\">5K+</td>\n",
    "    </tr>\n",
    "      <tr>\n",
    "      <td style=\"border: 1px solid #ddd; padding: 8px;\">7 Cups: Online Therapy and Chat</td>\n",
    "      <td style=\"border: 1px solid #ddd; padding: 8px;\">3.7</td>\n",
    "      <td style=\"border: 1px solid #ddd; padding: 8px;\">21.8K</td>\n",
    "      <td style=\"border: 1px solid #ddd; padding: 8px;\">1M+</td>\n",
    "    </tr>\n",
    "  </tbody>\n",
    "</table>\n",
    "\n",
    "Prior research has explored the application of sentiment analysis to app reviews across various domains, including health and food delivery services, often finding a positive correlation between positive sentiment and higher app ratings.<a name=\"cite_ref-6\"></a>[<sup>6</sup>](#cite_note-6) For instance, a study on food delivery apps highlighted the impact of emotional cues in user reviews on star ratings.<a name=\"cite_ref-6\"></a>[<sup>6</sup>](#cite_note-6) Similarly, research in the mental health domain has used NLP techniques to analyze user feedback, aiming to improve app design and user engagement.<a name=\"cite_ref-3\"></a>[<sup>3</sup>](#cite_note-3)\n",
    "\n",
    "One key area of focus in mental health app evaluation is the concept of emotionally supportive sentiment. This refers to expressions in user reviews indicating that the app made them feel understood, cared for, or validated.<a name=\"cite_ref-5\"></a>[<sup>5</sup>](#cite_note-5) We define emotionally supportive sentiment as expressions in user reviews that indicate feeling heard, understood, or emotionally uplifted, such as 'I felt less alone,' 'this app gets me,' or 'the chatbot really helped me through a tough time.' Given that individuals often turn to mental health apps seeking a safe and empathetic space,<a name=\"cite_ref-5\"></a>[<sup>5</sup>](#cite_note-5) the presence of such sentiment in reviews could be a strong indicator of an app's ability to meet user needs. A study analyzing user reviews of depression apps found that therapeutic treatment app features, like games, generated more positive emotions in users.<a name=\"cite_ref-8\"></a>[<sup>8</sup>](#cite_note-8) This suggests that the specific features and the resulting emotional responses play a significant role in user perception. \n",
    "\n",
    "Our research builds upon this foundation by specifically investigating the correlation between the frequency of emotionally supportive sentiment and the overall Google Play Store rating for a focused set of AI mental health chatbot apps. By examining this relationship across a broader collection of 20 apps, we aim to provide valuable insights for developers looking to enhance user satisfaction and app store performance in this increasingly important sector. Understanding this relationship can inform app developers how to better design emotionally intelligent AI systems that meet users' psychological needs, potentially increasing engagement and app effectiveness.\n",
    "\n",
    "<br>\n",
    "\n",
    "_**It is important to note** that our findings are based on a collection of 20 apps, which, while an improvement over our initial scope, still represents a limited sample of the full spectrum of AI mental health chatbot apps available had we been able to account for apps across multiple App Store platforms. We are aware of this limitation and have endeavored to address it by selecting a diverse range of apps within this category._\n",
    "\n",
    "References:\n",
    "1. <a name=\"cite_note-1\"></a> [^](#cite_ref-1) Ahead: Emotions Coach - Apps on Google Play, accessed April 26, 2025, https://play.google.com/store/apps/details?id=com.aheadsolutions.aHead\n",
    "2. <a name=\"cite_note-2\"></a> [^](#cite_ref-2) Alqahtani, Felwah & Orji, Rita. (2020). Insights from user reviews to improve mental health apps. Health Informatics Journal. 26. 146045821989649. 10.1177/1460458219896492. https://www.researchgate.net/publication/338515888_Insights_from_user_reviews_to_improve_mental_health_apps\n",
    "3. <a name=\"cite_note-3\"></a> [^](#cite_ref-3) Funnell, Erin Lucy, et al. “MHealth Solutions for Mental Health Screening and Diagnosis: A Review of APP User Perspectives Using Sentiment and Thematic Analysis.” Frontiers, Frontiers, 26 Apr. 2025, https://www.frontiersin.org/journals/psychiatry/articles/10.3389/fpsyt.2022.857304/full\n",
    "4. <a name=\"cite_note-4\"></a> [^](#cite_ref-4) How We Feel - Apps on Google Play, accessed April 26, 2025, https://play.google.com/store/apps/details?id=org.howwefeel.moodmeter\n",
    "5. <a name=\"cite_note-5\"></a> [^](#cite_ref-5) Kang, D. young, & Ki, E. J. (2025). User Needs and Benefits of Mental Health Chatbots: Text-Mining Analysis of Mobile Apps Reviews. International Journal of Human–Computer Interaction, 1–11. https://doi.org/10.1080/10447318.2025.2490866\n",
    "6. <a name=\"cite_note-6\"></a> [^](#cite_ref-6) Li, Le & Ismail, Noor & Chong, Choo & Sun, Peng & Pervin, Mst & Hossain, Md Shamim. (2024). Customers' emotional impact on star rating and thumbs-up behavior towards food delivery service Apps. Journal of Infrastructure Policy and Development. 8. 5311. 10.24294/jipd.v8i7.5311., https://www.researchgate.net/publication/382695095_Customers'_emotional_impact_on_star_rating_and_thumbs-up_behavior_towards_food_delivery_service_Apps\n",
    "7. <a name=\"cite_note-7\"></a> [^](#cite_ref-7) Martens, Daniel, and Timo Johann. “On the Emotion of Users in App Reviews.” arXiv.Org, 7 Mar. 2017, https://arxiv.org/pdf/1703.02256\n",
    "8. <a name=\"cite_note-8\"></a> [^](#cite_ref-8) Meyer, J., & Okuboyejo, S. (2021). User Reviews of Depression App Features: Sentiment Analysis. JMIR formative research, 5(12), e17062. https://doi.org/10.2196/17062\n",
    "9. <a name=\"cite_note-9\"></a> [^](#cite_ref-9) Wysa: Anxiety, therapy chatbot - Apps on Google Play https://play.google.com/store/apps/details?id=bot.touchkin"
   ]
  },
  {
   "cell_type": "markdown",
   "metadata": {},
   "source": [
    "# Hypothesis\n"
   ]
  },
  {
   "cell_type": "markdown",
   "metadata": {},
   "source": [
    "We hypothesize that there will be a significant positive correlation between the frequency of emotionally supportive sentiment expressed in user reviews and the average Google Play Store rating for the selected AI mental health chatbot apps. This prediction is based on prior research suggesting that positive emotional experiences, particularly feeling understood and supported, strongly influence user satisfaction and subsequent app ratings."
   ]
  },
  {
   "cell_type": "markdown",
   "metadata": {},
   "source": [
    "# Data\n",
    "\n",
    "In order to investigate the correlation between emotionally supportive sentiment in user reviews and Google Play Store ratings for AI mental health chatbot apps, we will collect publicly available user review data from the Google Play Store for a diverse set of 20 AI mental health chatbot applications. Based on the reviews, we will analyze variables which include the review message itself, star rating, date of the review, a boolean value (potentially by custom keyword lists, manual labeling, or a combination) determining if the review expressed emotionally supportive sentiment or not (matching for phrases indicating empathy, validation, and care), and which app the review was for. \n",
    "\n",
    "Since the apps were developed/released at different times and have changed throughout the years, we want to narrow the time frame to reviews from 2023 to the present. This timeframe aims to capture more recent data, disregarding reviews from outdated versions of the app or when the AI technology was not as advanced, ensuring a better consistency across apps regarding AI evolution, which reflects current societal views on mental health. \n",
    "\n",
    "We used web scraping tools like the [Google Play Scraper API](https://pypi.org/project/google-play-scraper/) to organize the reviews from each app into usable datasets. \n",
    "The dataset primarily comprises app reviews, which inherently contain rich textual data reflecting user sentiment, experiences, and perceived emotional support. Each review typically includes:\n",
    "- Review Text: The qualitative feedback provided by the user.\n",
    "- Star Rating: A quantitative measure of user satisfaction (typically on a scale of 1 to 5).\n",
    "- Likes/Helpful Votes: Indicators of how other users perceive the utility or resonance of a review.\n",
    "- Date of Review: Temporal information for tracking trends.\n",
    "\n",
    "Libraries and Tools\n",
    "Our analysis is performed using Python, leveraging a suite of powerful libraries for data manipulation, web scraping, natural language processing, and visualization. The key libraries utilized in this project for data cleaning include:\n",
    "- pandas: Essential for efficient data loading, cleaning, and manipulation, including handling DataFrames, filtering rows, and creating new columns.\n",
    "- seaborn: Provides a high-level interface for drawing attractive and informative statistical graphics, enhancing our data visualizations.\n",
    "- google_play_scraper: Used for web scraping publicly available user review data from the Google Play Store.\n",
    "- datetime: Utilized for handling and comparing date and time objects, particularly for filtering reviews by a specific cutoff date.\n",
    "- vaderSentiment: Specifically, SentimentIntensityAnalyzer from this library is used for performing Valence Aware Dictionary and sEntiment Reasoner (VADER) sentiment analysis on the review text.\n",
    "\n",
    "The ideal dataset might involve direct access to anonymized app usage data and user feedback provided through in-app surveys or consent-based data sharing, which would offer richer insights beyond just the text of the reviews. Since each app has a varying number of reviews, we intend to use all the reviews from the timeframe. We will only consider English reviews to keep the reviews consistent, and we are going to remove reviews less than 3 words to have more context for our sentiment analysis and to prevent bias towards positive or negative reviews. \n",
    "\n",
    "Overall, the primary limitation of our real-world data will be the limited amount of apps available (20 aps) which is a limitation we attempted to address to the best of our ability. Similarly, there is also a lack of direct access to user engagement and detailed demographic information, which could provide additional context but are not central to our current research focus on the relationship between review sentiment and app ratings."
   ]
  },
  {
   "cell_type": "markdown",
   "metadata": {},
   "source": [
    "## Data Overview\n",
    "\n",
    "20apps_reviews_cleaned Dataset: This dataset combines user reviews (17,479) from 20 different mental health chatbot apps retrieved from the Google Play Store. We extracted and renamed 5 key variables from the dataset: 'id' (the unique identifier for each review, stored as an integer), 'review' (the user's feedback message, stored as a string), 'rating' (the user's numerical rating from a scale of 1-5, stored as an integer), 'likes' (the number of likes the review message received, stored as an integer), and 'date' (the date when the review was posted, stored as a string). The 'rating' variable represents user satisfaction/sentiment towards the specific app, while the 'likes' variable is a proxy for how useful a review is perceived to be. To clean the dataset, we included variables relevant to our data analysis while excluding information such as the username to adhere to privacy concerns. Furthermore, we sorted the data by user rating (highest to lowest) to improve clarity and enable accurate sentiment analysis. We performed data wrangling by extracting reviews from the apps, filtering all twenty apps by a cutoff date of January 1, 2023 to the present. Lastly, we renamed the relevant columns ('content', 'score', 'thumbsUpCount', 'at') to 'review', 'rating', 'likes', and 'date'.\n",
    "\n",
    "To examine the correlation between emotionally supportive sentiment in reviews and Google Play Store ratings, we plan on combining the reviews of the 20 AI mental health chatbots through data wrangling. Since the datasets share the same columns ('id', 'review', 'rating', 'likes', 'date'), we will concatenate them vertically and add an 'app' column to identify the source of each review. Furthermore, we intend to implement reusable functions that take the twenty apps as input to avoid code redundancy and facilitate the efficiency of our analysis.\n",
    "\n",
    "Links to App Reviews:\n",
    "\n",
    "1. https://play.google.com/store/apps/details?id=bot.touchkin&hl=en_US\n",
    "2. https://play.google.com/store/apps/details?id=org.howwefeel.moodmeter&hl=en_US\n",
    "3. https://play.google.com/store/apps/details?id=com.aheadsolutions.aHead&hl=en_US\n",
    "4. https://play.google.com/store/apps/details?id=com.getmental.mental\n",
    "5. https://play.google.com/store/apps/details?id=br.com.youper\n",
    "6. https://play.google.com/store/apps/details?id=xyz.slingshot.ashley.app\n",
    "7. https://play.google.com/store/apps/details?id=com.vos.app\n",
    "8. https://play.google.com/store/apps/details?id=de.moodpath.android\n",
    "9. https://play.google.com/store/apps/details?id=com.mypossibleself.app\n",
    "10. https://play.google.com/store/apps/details?id=com.cbt.mindhealthy\n",
    "11. https://play.google.com/store/apps/details?id=com.wave6.onsen\n",
    "12. https://play.google.com/store/apps/details?id=com.seasector.emotionalintelligence\n",
    "13. https://play.google.com/store/apps/details?id=com.woebot\n",
    "14. https://play.google.com/store/apps/details?id=com.bearpty.talklife\n",
    "15. https://play.google.com/store/apps/details?id=app.awarefy.awarefyapp\n",
    "16. https://play.google.com/store/apps/details?id=com.getsomeheadspace.android\n",
    "17. https://play.google.com/store/apps/details?id=com.empaithy\n",
    "18. https://play.google.com/store/apps/details?id=app.thedeepen\n",
    "19. https://play.google.com/store/apps/details?id=ai.lightningrod.pensiveapp\n",
    "20. https://play.google.com/store/apps/details?id=com.sevencupsoftea.app"
   ]
  },
  {
   "cell_type": "markdown",
   "metadata": {},
   "source": [
    "## Dataset #1 (use name instead of number here)"
   ]
  },
  {
   "cell_type": "code",
   "execution_count": null,
   "metadata": {},
   "outputs": [],
   "source": [
    "## YOUR CODE TO LOAD/CLEAN/TIDY/WRANGLE THE DATA GOES HERE\n",
    "## FEEL FREE TO ADD MULTIPLE CELLS PER SECTION "
   ]
  },
  {
   "cell_type": "markdown",
   "metadata": {},
   "source": [
    "## Dataset #2 (if you have more than one, use name instead of number here)"
   ]
  },
  {
   "cell_type": "code",
   "execution_count": null,
   "metadata": {},
   "outputs": [],
   "source": [
    "## YOUR CODE TO LOAD/CLEAN/TIDY/WRANGLE THE DATA GOES HERE\n",
    "## FEEL FREE TO ADD MULTIPLE CELLS PER SECTION "
   ]
  },
  {
   "cell_type": "markdown",
   "metadata": {},
   "source": [
    "# Results\n",
    "\n",
    "## Exploratory Data Analysis\n",
    "\n",
    "Carry out whatever EDA you need to for your project.  Because every project will be different we can't really give you much of a template at this point. But please make sure you describe the what and why in text here as well as providing interpretation of results and context."
   ]
  },
  {
   "cell_type": "markdown",
   "metadata": {},
   "source": [
    "## First Analysis You Did - Give it a better title\n",
    "\n",
    "Some more words and stuff.  Remember notebooks work best if you interleave the code that generates a result with properly annotate figures and text that puts these results into context."
   ]
  },
  {
   "cell_type": "code",
   "execution_count": null,
   "metadata": {},
   "outputs": [],
   "source": [
    "## YOUR CODE HERE\n",
    "## FEEL FREE TO ADD MULTIPLE CELLS PER SECTION"
   ]
  },
  {
   "cell_type": "markdown",
   "metadata": {},
   "source": [
    "## Second Analysis You Did - Give it a better title\n",
    "\n",
    "Some more words and stuff.  Remember notebooks work best if you interleave the code that generates a result with properly annotate figures and text that puts these results into context."
   ]
  },
  {
   "cell_type": "code",
   "execution_count": null,
   "metadata": {},
   "outputs": [],
   "source": [
    "## YOUR CODE HERE\n",
    "## FEEL FREE TO ADD MULTIPLE CELLS PER SECTION"
   ]
  },
  {
   "cell_type": "markdown",
   "metadata": {},
   "source": [
    "## ETC AD NASEUM\n",
    "\n",
    "Some more words and stuff.  Remember notebooks work best if you interleave the code that generates a result with properly annotate figures and text that puts these results into context."
   ]
  },
  {
   "cell_type": "code",
   "execution_count": null,
   "metadata": {},
   "outputs": [],
   "source": [
    "## YOUR CODE HERE\n",
    "## FEEL FREE TO ADD MULTIPLE CELLS PER SECTION"
   ]
  },
  {
   "cell_type": "markdown",
   "metadata": {},
   "source": [
    "# Ethics & Privacy"
   ]
  },
  {
   "cell_type": "markdown",
   "metadata": {},
   "source": [
    "Our project analyzed how emotionally supportive AI mental health chatbots are, based on user satisfaction ratings. We used publicly available user reviews from mental health apps providing AI chatbot functions. These reviews are shared on the Google Play Store, where users post their experiences voluntarily. While we used publicly available data, we acknowledge and adhered to the Google Play Store's terms of service regarding data collection. Since we did not collect personal data ourselves and only used public information, the privacy risk was low.\n",
    "\n",
    "However, we understand that some reviews may include emotional or sensitive personal stories. Even though usernames are usually hidden or anonymized, we were careful not to highlight any specific or identifying content. If we found any comments that seemed too personal, we chose to summarize them or leave them out.\n",
    "\n",
    "We also acknowledge that not everyone leaves app reviews. People who write reviews may have very strong opinions—either positive or negative—so the data may not represent all users fairly. Furthermore, our reliance on English-language reviews exclusively from the Google Play Store means our findings do not generalize to non-English speaking populations or users of other app platforms. Similarly, individuals without regular smartphone access, limited digital literacy, or those who prefer traditional mental health care may be underrepresented, leading to a dataset composed of a specific user demographic. We mention these limitations clearly in our analysis. We also assessed the performance of our sentiment analysis tool (VADER) in capturing nuanced mental health language, as general sentiment models may exhibit biases or misinterpret context-specific emotional expressions. We avoided making strong claims about the overall effectiveness of chatbots, and we encouraged responsible use of our findings.\n",
    "\n",
    "In addition to protecting individual privacy and accounting for sampling and algorithmic bias, we also considered the potential unintended consequences that could arise from how this project is interpreted or shared. We recognize that discussions around mental health apps can have real-world impacts. If our findings are shared more broadly, we want to avoid misinterpretation. To prevent this, we did not rank apps or make claims about clinical effectiveness. Instead, we focused on general patterns of emotionally supportive sentiment and clearly stated the limitations of our data."
   ]
  },
  {
   "cell_type": "markdown",
   "metadata": {},
   "source": [
    "# Discusison and Conclusion\n",
    "\n",
    "Wrap it all up here.  Somewhere between 3 and 10 paragraphs roughly.  A good time to refer back to your Background section and review how this work extended the previous stuff. \n",
    "\n",
    "\n",
    "# Team Contributions\n",
    "\n",
    "Speficy who did what.  This should be pretty granular, perhaps bullet points, no more than a few sentences per person."
   ]
  }
 ],
 "metadata": {
  "kernelspec": {
   "display_name": "Python 3 (ipykernel)",
   "language": "python",
   "name": "python3"
  },
  "language_info": {
   "codemirror_mode": {
    "name": "ipython",
    "version": 3
   },
   "file_extension": ".py",
   "mimetype": "text/x-python",
   "name": "python",
   "nbconvert_exporter": "python",
   "pygments_lexer": "ipython3",
   "version": "3.9.7"
  }
 },
 "nbformat": 4,
 "nbformat_minor": 2
}
